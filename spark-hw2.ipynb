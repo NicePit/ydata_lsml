{
 "cells": [
  {
   "cell_type": "code",
   "execution_count": 1,
   "metadata": {},
   "outputs": [],
   "source": [
    "# Checklist:\n",
    "# AWS emr-5.29.0\n",
    "# MASTER r5d.8xlarge 1x, no EBS\n",
    "# CORE r5d.8xlarge 4x, no EBS\n",
    "# Custom bootstrap action: s3://ydatazian/bootstrap.sh\n",
    "# Allow ssh in master node security group"
   ]
  },
  {
   "cell_type": "code",
   "execution_count": 1,
   "metadata": {},
   "outputs": [],
   "source": [
    "import tqdm.notebook as tqdm\n",
    "import numpy as np\n",
    "import scipy\n",
    "import sklearn\n",
    "import matplotlib.pyplot as plt"
   ]
  },
  {
   "cell_type": "markdown",
   "metadata": {},
   "source": [
    "# SparkSession\n",
    "\n",
    "https://spark.apache.org/docs/2.4.4/api/python/pyspark.html\n",
    "\n",
    "https://spark.apache.org/docs/2.4.4/api/python/pyspark.sql.html"
   ]
  },
  {
   "cell_type": "code",
   "execution_count": 2,
   "metadata": {
    "scrolled": true
   },
   "outputs": [
    {
     "name": "stdout",
     "output_type": "stream",
     "text": [
      "NameNode: http://ec2-18-215-34-68.compute-1.amazonaws.com:50070\n",
      "YARN: http://ec2-18-215-34-68.compute-1.amazonaws.com:8088\n",
      "Spark UI: http://ec2-18-215-34-68.compute-1.amazonaws.com:20888/proxy/application_1590934394702_0001\n"
     ]
    }
   ],
   "source": [
    "import findspark\n",
    "findspark.init()\n",
    "\n",
    "import spark_utils\n",
    "from pyspark import SparkContext, SparkConf\n",
    "from pyspark.sql import SparkSession\n",
    "sc = SparkContext(\"yarn\", \"My App\", conf=spark_utils.get_spark_conf())\n",
    "se = SparkSession(sc)\n",
    "spark_utils.print_ui_links()"
   ]
  },
  {
   "cell_type": "markdown",
   "metadata": {},
   "source": [
    "# Register all tables for sql queries"
   ]
  },
  {
   "cell_type": "code",
   "execution_count": 3,
   "metadata": {},
   "outputs": [
    {
     "data": {
      "application/vnd.jupyter.widget-view+json": {
       "model_id": "c781595a0fb54860aaf59942136be209",
       "version_major": 2,
       "version_minor": 0
      },
      "text/plain": [
       "HBox(children=(FloatProgress(value=0.0, max=10.0), HTML(value='')))"
      ]
     },
     "metadata": {},
     "output_type": "display_data"
    },
    {
     "name": "stdout",
     "output_type": "stream",
     "text": [
      "clicks_test\n"
     ]
    },
    {
     "data": {
      "text/html": [
       "<div>\n",
       "<style scoped>\n",
       "    .dataframe tbody tr th:only-of-type {\n",
       "        vertical-align: middle;\n",
       "    }\n",
       "\n",
       "    .dataframe tbody tr th {\n",
       "        vertical-align: top;\n",
       "    }\n",
       "\n",
       "    .dataframe thead th {\n",
       "        text-align: right;\n",
       "    }\n",
       "</style>\n",
       "<table border=\"1\" class=\"dataframe\">\n",
       "  <thead>\n",
       "    <tr style=\"text-align: right;\">\n",
       "      <th></th>\n",
       "      <th>display_id</th>\n",
       "      <th>ad_id</th>\n",
       "    </tr>\n",
       "  </thead>\n",
       "  <tbody>\n",
       "    <tr>\n",
       "      <th>0</th>\n",
       "      <td>16874594</td>\n",
       "      <td>66758</td>\n",
       "    </tr>\n",
       "    <tr>\n",
       "      <th>1</th>\n",
       "      <td>16874594</td>\n",
       "      <td>150083</td>\n",
       "    </tr>\n",
       "    <tr>\n",
       "      <th>2</th>\n",
       "      <td>16874594</td>\n",
       "      <td>162754</td>\n",
       "    </tr>\n",
       "  </tbody>\n",
       "</table>\n",
       "</div>"
      ],
      "text/plain": [
       "  display_id   ad_id\n",
       "0   16874594   66758\n",
       "1   16874594  150083\n",
       "2   16874594  162754"
      ]
     },
     "metadata": {},
     "output_type": "display_data"
    },
    {
     "name": "stdout",
     "output_type": "stream",
     "text": [
      "clicks_train\n"
     ]
    },
    {
     "data": {
      "text/html": [
       "<div>\n",
       "<style scoped>\n",
       "    .dataframe tbody tr th:only-of-type {\n",
       "        vertical-align: middle;\n",
       "    }\n",
       "\n",
       "    .dataframe tbody tr th {\n",
       "        vertical-align: top;\n",
       "    }\n",
       "\n",
       "    .dataframe thead th {\n",
       "        text-align: right;\n",
       "    }\n",
       "</style>\n",
       "<table border=\"1\" class=\"dataframe\">\n",
       "  <thead>\n",
       "    <tr style=\"text-align: right;\">\n",
       "      <th></th>\n",
       "      <th>display_id</th>\n",
       "      <th>ad_id</th>\n",
       "      <th>clicked</th>\n",
       "    </tr>\n",
       "  </thead>\n",
       "  <tbody>\n",
       "    <tr>\n",
       "      <th>0</th>\n",
       "      <td>1</td>\n",
       "      <td>42337</td>\n",
       "      <td>0</td>\n",
       "    </tr>\n",
       "    <tr>\n",
       "      <th>1</th>\n",
       "      <td>1</td>\n",
       "      <td>139684</td>\n",
       "      <td>0</td>\n",
       "    </tr>\n",
       "    <tr>\n",
       "      <th>2</th>\n",
       "      <td>1</td>\n",
       "      <td>144739</td>\n",
       "      <td>1</td>\n",
       "    </tr>\n",
       "  </tbody>\n",
       "</table>\n",
       "</div>"
      ],
      "text/plain": [
       "  display_id   ad_id clicked\n",
       "0          1   42337       0\n",
       "1          1  139684       0\n",
       "2          1  144739       1"
      ]
     },
     "metadata": {},
     "output_type": "display_data"
    },
    {
     "name": "stdout",
     "output_type": "stream",
     "text": [
      "documents_categories\n"
     ]
    },
    {
     "data": {
      "text/html": [
       "<div>\n",
       "<style scoped>\n",
       "    .dataframe tbody tr th:only-of-type {\n",
       "        vertical-align: middle;\n",
       "    }\n",
       "\n",
       "    .dataframe tbody tr th {\n",
       "        vertical-align: top;\n",
       "    }\n",
       "\n",
       "    .dataframe thead th {\n",
       "        text-align: right;\n",
       "    }\n",
       "</style>\n",
       "<table border=\"1\" class=\"dataframe\">\n",
       "  <thead>\n",
       "    <tr style=\"text-align: right;\">\n",
       "      <th></th>\n",
       "      <th>document_id</th>\n",
       "      <th>category_id</th>\n",
       "      <th>confidence_level</th>\n",
       "    </tr>\n",
       "  </thead>\n",
       "  <tbody>\n",
       "    <tr>\n",
       "      <th>0</th>\n",
       "      <td>1595802</td>\n",
       "      <td>1611</td>\n",
       "      <td>0.92</td>\n",
       "    </tr>\n",
       "    <tr>\n",
       "      <th>1</th>\n",
       "      <td>1595802</td>\n",
       "      <td>1610</td>\n",
       "      <td>0.07</td>\n",
       "    </tr>\n",
       "    <tr>\n",
       "      <th>2</th>\n",
       "      <td>1524246</td>\n",
       "      <td>1807</td>\n",
       "      <td>0.92</td>\n",
       "    </tr>\n",
       "  </tbody>\n",
       "</table>\n",
       "</div>"
      ],
      "text/plain": [
       "  document_id category_id confidence_level\n",
       "0     1595802        1611             0.92\n",
       "1     1595802        1610             0.07\n",
       "2     1524246        1807             0.92"
      ]
     },
     "metadata": {},
     "output_type": "display_data"
    },
    {
     "name": "stdout",
     "output_type": "stream",
     "text": [
      "documents_entities\n"
     ]
    },
    {
     "data": {
      "text/html": [
       "<div>\n",
       "<style scoped>\n",
       "    .dataframe tbody tr th:only-of-type {\n",
       "        vertical-align: middle;\n",
       "    }\n",
       "\n",
       "    .dataframe tbody tr th {\n",
       "        vertical-align: top;\n",
       "    }\n",
       "\n",
       "    .dataframe thead th {\n",
       "        text-align: right;\n",
       "    }\n",
       "</style>\n",
       "<table border=\"1\" class=\"dataframe\">\n",
       "  <thead>\n",
       "    <tr style=\"text-align: right;\">\n",
       "      <th></th>\n",
       "      <th>document_id</th>\n",
       "      <th>entity_id</th>\n",
       "      <th>confidence_level</th>\n",
       "    </tr>\n",
       "  </thead>\n",
       "  <tbody>\n",
       "    <tr>\n",
       "      <th>0</th>\n",
       "      <td>1524246</td>\n",
       "      <td>f9eec25663db4cd83183f5c805186f16</td>\n",
       "      <td>0.672865314504701</td>\n",
       "    </tr>\n",
       "    <tr>\n",
       "      <th>1</th>\n",
       "      <td>1524246</td>\n",
       "      <td>55ebcfbdaff1d6f60b3907151f38527a</td>\n",
       "      <td>0.399113728441297</td>\n",
       "    </tr>\n",
       "    <tr>\n",
       "      <th>2</th>\n",
       "      <td>1524246</td>\n",
       "      <td>839907a972930b17b125eb0247898412</td>\n",
       "      <td>0.392095749652966</td>\n",
       "    </tr>\n",
       "  </tbody>\n",
       "</table>\n",
       "</div>"
      ],
      "text/plain": [
       "  document_id                         entity_id   confidence_level\n",
       "0     1524246  f9eec25663db4cd83183f5c805186f16  0.672865314504701\n",
       "1     1524246  55ebcfbdaff1d6f60b3907151f38527a  0.399113728441297\n",
       "2     1524246  839907a972930b17b125eb0247898412  0.392095749652966"
      ]
     },
     "metadata": {},
     "output_type": "display_data"
    },
    {
     "name": "stdout",
     "output_type": "stream",
     "text": [
      "documents_meta\n"
     ]
    },
    {
     "data": {
      "text/html": [
       "<div>\n",
       "<style scoped>\n",
       "    .dataframe tbody tr th:only-of-type {\n",
       "        vertical-align: middle;\n",
       "    }\n",
       "\n",
       "    .dataframe tbody tr th {\n",
       "        vertical-align: top;\n",
       "    }\n",
       "\n",
       "    .dataframe thead th {\n",
       "        text-align: right;\n",
       "    }\n",
       "</style>\n",
       "<table border=\"1\" class=\"dataframe\">\n",
       "  <thead>\n",
       "    <tr style=\"text-align: right;\">\n",
       "      <th></th>\n",
       "      <th>document_id</th>\n",
       "      <th>source_id</th>\n",
       "      <th>publisher_id</th>\n",
       "      <th>publish_time</th>\n",
       "    </tr>\n",
       "  </thead>\n",
       "  <tbody>\n",
       "    <tr>\n",
       "      <th>0</th>\n",
       "      <td>1595802</td>\n",
       "      <td>1</td>\n",
       "      <td>603</td>\n",
       "      <td>2016-06-05 00:00:00</td>\n",
       "    </tr>\n",
       "    <tr>\n",
       "      <th>1</th>\n",
       "      <td>1524246</td>\n",
       "      <td>1</td>\n",
       "      <td>603</td>\n",
       "      <td>2016-05-26 11:00:00</td>\n",
       "    </tr>\n",
       "    <tr>\n",
       "      <th>2</th>\n",
       "      <td>1617787</td>\n",
       "      <td>1</td>\n",
       "      <td>603</td>\n",
       "      <td>2016-05-27 00:00:00</td>\n",
       "    </tr>\n",
       "  </tbody>\n",
       "</table>\n",
       "</div>"
      ],
      "text/plain": [
       "  document_id source_id publisher_id         publish_time\n",
       "0     1595802         1          603  2016-06-05 00:00:00\n",
       "1     1524246         1          603  2016-05-26 11:00:00\n",
       "2     1617787         1          603  2016-05-27 00:00:00"
      ]
     },
     "metadata": {},
     "output_type": "display_data"
    },
    {
     "name": "stdout",
     "output_type": "stream",
     "text": [
      "documents_topics\n"
     ]
    },
    {
     "data": {
      "text/html": [
       "<div>\n",
       "<style scoped>\n",
       "    .dataframe tbody tr th:only-of-type {\n",
       "        vertical-align: middle;\n",
       "    }\n",
       "\n",
       "    .dataframe tbody tr th {\n",
       "        vertical-align: top;\n",
       "    }\n",
       "\n",
       "    .dataframe thead th {\n",
       "        text-align: right;\n",
       "    }\n",
       "</style>\n",
       "<table border=\"1\" class=\"dataframe\">\n",
       "  <thead>\n",
       "    <tr style=\"text-align: right;\">\n",
       "      <th></th>\n",
       "      <th>document_id</th>\n",
       "      <th>topic_id</th>\n",
       "      <th>confidence_level</th>\n",
       "    </tr>\n",
       "  </thead>\n",
       "  <tbody>\n",
       "    <tr>\n",
       "      <th>0</th>\n",
       "      <td>1595802</td>\n",
       "      <td>140</td>\n",
       "      <td>0.0731131601068925</td>\n",
       "    </tr>\n",
       "    <tr>\n",
       "      <th>1</th>\n",
       "      <td>1595802</td>\n",
       "      <td>16</td>\n",
       "      <td>0.0594164867373976</td>\n",
       "    </tr>\n",
       "    <tr>\n",
       "      <th>2</th>\n",
       "      <td>1595802</td>\n",
       "      <td>143</td>\n",
       "      <td>0.0454207537554526</td>\n",
       "    </tr>\n",
       "  </tbody>\n",
       "</table>\n",
       "</div>"
      ],
      "text/plain": [
       "  document_id topic_id    confidence_level\n",
       "0     1595802      140  0.0731131601068925\n",
       "1     1595802       16  0.0594164867373976\n",
       "2     1595802      143  0.0454207537554526"
      ]
     },
     "metadata": {},
     "output_type": "display_data"
    },
    {
     "name": "stdout",
     "output_type": "stream",
     "text": [
      "events\n"
     ]
    },
    {
     "data": {
      "text/html": [
       "<div>\n",
       "<style scoped>\n",
       "    .dataframe tbody tr th:only-of-type {\n",
       "        vertical-align: middle;\n",
       "    }\n",
       "\n",
       "    .dataframe tbody tr th {\n",
       "        vertical-align: top;\n",
       "    }\n",
       "\n",
       "    .dataframe thead th {\n",
       "        text-align: right;\n",
       "    }\n",
       "</style>\n",
       "<table border=\"1\" class=\"dataframe\">\n",
       "  <thead>\n",
       "    <tr style=\"text-align: right;\">\n",
       "      <th></th>\n",
       "      <th>display_id</th>\n",
       "      <th>uuid</th>\n",
       "      <th>document_id</th>\n",
       "      <th>timestamp</th>\n",
       "      <th>platform</th>\n",
       "      <th>geo_location</th>\n",
       "    </tr>\n",
       "  </thead>\n",
       "  <tbody>\n",
       "    <tr>\n",
       "      <th>0</th>\n",
       "      <td>1</td>\n",
       "      <td>cb8c55702adb93</td>\n",
       "      <td>379743</td>\n",
       "      <td>61</td>\n",
       "      <td>3</td>\n",
       "      <td>US&gt;SC&gt;519</td>\n",
       "    </tr>\n",
       "    <tr>\n",
       "      <th>1</th>\n",
       "      <td>2</td>\n",
       "      <td>79a85fa78311b9</td>\n",
       "      <td>1794259</td>\n",
       "      <td>81</td>\n",
       "      <td>2</td>\n",
       "      <td>US&gt;CA&gt;807</td>\n",
       "    </tr>\n",
       "    <tr>\n",
       "      <th>2</th>\n",
       "      <td>3</td>\n",
       "      <td>822932ce3d8757</td>\n",
       "      <td>1179111</td>\n",
       "      <td>182</td>\n",
       "      <td>2</td>\n",
       "      <td>US&gt;MI&gt;505</td>\n",
       "    </tr>\n",
       "  </tbody>\n",
       "</table>\n",
       "</div>"
      ],
      "text/plain": [
       "  display_id            uuid document_id timestamp platform geo_location\n",
       "0          1  cb8c55702adb93      379743        61        3    US>SC>519\n",
       "1          2  79a85fa78311b9     1794259        81        2    US>CA>807\n",
       "2          3  822932ce3d8757     1179111       182        2    US>MI>505"
      ]
     },
     "metadata": {},
     "output_type": "display_data"
    },
    {
     "name": "stdout",
     "output_type": "stream",
     "text": [
      "page_views\n"
     ]
    },
    {
     "data": {
      "text/html": [
       "<div>\n",
       "<style scoped>\n",
       "    .dataframe tbody tr th:only-of-type {\n",
       "        vertical-align: middle;\n",
       "    }\n",
       "\n",
       "    .dataframe tbody tr th {\n",
       "        vertical-align: top;\n",
       "    }\n",
       "\n",
       "    .dataframe thead th {\n",
       "        text-align: right;\n",
       "    }\n",
       "</style>\n",
       "<table border=\"1\" class=\"dataframe\">\n",
       "  <thead>\n",
       "    <tr style=\"text-align: right;\">\n",
       "      <th></th>\n",
       "      <th>uuid</th>\n",
       "      <th>document_id</th>\n",
       "      <th>timestamp</th>\n",
       "      <th>platform</th>\n",
       "      <th>geo_location</th>\n",
       "      <th>traffic_source</th>\n",
       "    </tr>\n",
       "  </thead>\n",
       "  <tbody>\n",
       "    <tr>\n",
       "      <th>0</th>\n",
       "      <td>1fd5f051fba643</td>\n",
       "      <td>120</td>\n",
       "      <td>31905835</td>\n",
       "      <td>1</td>\n",
       "      <td>RS</td>\n",
       "      <td>2</td>\n",
       "    </tr>\n",
       "    <tr>\n",
       "      <th>1</th>\n",
       "      <td>8557aa9004be3b</td>\n",
       "      <td>120</td>\n",
       "      <td>32053104</td>\n",
       "      <td>1</td>\n",
       "      <td>VN&gt;44</td>\n",
       "      <td>2</td>\n",
       "    </tr>\n",
       "    <tr>\n",
       "      <th>2</th>\n",
       "      <td>c351b277a358f0</td>\n",
       "      <td>120</td>\n",
       "      <td>54013023</td>\n",
       "      <td>1</td>\n",
       "      <td>KR&gt;12</td>\n",
       "      <td>1</td>\n",
       "    </tr>\n",
       "  </tbody>\n",
       "</table>\n",
       "</div>"
      ],
      "text/plain": [
       "             uuid document_id timestamp platform geo_location traffic_source\n",
       "0  1fd5f051fba643         120  31905835        1           RS              2\n",
       "1  8557aa9004be3b         120  32053104        1        VN>44              2\n",
       "2  c351b277a358f0         120  54013023        1        KR>12              1"
      ]
     },
     "metadata": {},
     "output_type": "display_data"
    },
    {
     "name": "stdout",
     "output_type": "stream",
     "text": [
      "page_views_sample\n"
     ]
    },
    {
     "data": {
      "text/html": [
       "<div>\n",
       "<style scoped>\n",
       "    .dataframe tbody tr th:only-of-type {\n",
       "        vertical-align: middle;\n",
       "    }\n",
       "\n",
       "    .dataframe tbody tr th {\n",
       "        vertical-align: top;\n",
       "    }\n",
       "\n",
       "    .dataframe thead th {\n",
       "        text-align: right;\n",
       "    }\n",
       "</style>\n",
       "<table border=\"1\" class=\"dataframe\">\n",
       "  <thead>\n",
       "    <tr style=\"text-align: right;\">\n",
       "      <th></th>\n",
       "      <th>uuid</th>\n",
       "      <th>document_id</th>\n",
       "      <th>timestamp</th>\n",
       "      <th>platform</th>\n",
       "      <th>geo_location</th>\n",
       "      <th>traffic_source</th>\n",
       "    </tr>\n",
       "  </thead>\n",
       "  <tbody>\n",
       "    <tr>\n",
       "      <th>0</th>\n",
       "      <td>1fd5f051fba643</td>\n",
       "      <td>120</td>\n",
       "      <td>31905835</td>\n",
       "      <td>1</td>\n",
       "      <td>RS</td>\n",
       "      <td>2</td>\n",
       "    </tr>\n",
       "    <tr>\n",
       "      <th>1</th>\n",
       "      <td>8557aa9004be3b</td>\n",
       "      <td>120</td>\n",
       "      <td>32053104</td>\n",
       "      <td>1</td>\n",
       "      <td>VN&gt;44</td>\n",
       "      <td>2</td>\n",
       "    </tr>\n",
       "    <tr>\n",
       "      <th>2</th>\n",
       "      <td>c351b277a358f0</td>\n",
       "      <td>120</td>\n",
       "      <td>54013023</td>\n",
       "      <td>1</td>\n",
       "      <td>KR&gt;12</td>\n",
       "      <td>1</td>\n",
       "    </tr>\n",
       "  </tbody>\n",
       "</table>\n",
       "</div>"
      ],
      "text/plain": [
       "             uuid document_id timestamp platform geo_location traffic_source\n",
       "0  1fd5f051fba643         120  31905835        1           RS              2\n",
       "1  8557aa9004be3b         120  32053104        1        VN>44              2\n",
       "2  c351b277a358f0         120  54013023        1        KR>12              1"
      ]
     },
     "metadata": {},
     "output_type": "display_data"
    },
    {
     "name": "stdout",
     "output_type": "stream",
     "text": [
      "promoted_content\n"
     ]
    },
    {
     "data": {
      "text/html": [
       "<div>\n",
       "<style scoped>\n",
       "    .dataframe tbody tr th:only-of-type {\n",
       "        vertical-align: middle;\n",
       "    }\n",
       "\n",
       "    .dataframe tbody tr th {\n",
       "        vertical-align: top;\n",
       "    }\n",
       "\n",
       "    .dataframe thead th {\n",
       "        text-align: right;\n",
       "    }\n",
       "</style>\n",
       "<table border=\"1\" class=\"dataframe\">\n",
       "  <thead>\n",
       "    <tr style=\"text-align: right;\">\n",
       "      <th></th>\n",
       "      <th>ad_id</th>\n",
       "      <th>document_id</th>\n",
       "      <th>campaign_id</th>\n",
       "      <th>advertiser_id</th>\n",
       "    </tr>\n",
       "  </thead>\n",
       "  <tbody>\n",
       "    <tr>\n",
       "      <th>0</th>\n",
       "      <td>1</td>\n",
       "      <td>6614</td>\n",
       "      <td>1</td>\n",
       "      <td>7</td>\n",
       "    </tr>\n",
       "    <tr>\n",
       "      <th>1</th>\n",
       "      <td>2</td>\n",
       "      <td>471467</td>\n",
       "      <td>2</td>\n",
       "      <td>7</td>\n",
       "    </tr>\n",
       "    <tr>\n",
       "      <th>2</th>\n",
       "      <td>3</td>\n",
       "      <td>7692</td>\n",
       "      <td>3</td>\n",
       "      <td>7</td>\n",
       "    </tr>\n",
       "  </tbody>\n",
       "</table>\n",
       "</div>"
      ],
      "text/plain": [
       "  ad_id document_id campaign_id advertiser_id\n",
       "0     1        6614           1             7\n",
       "1     2      471467           2             7\n",
       "2     3        7692           3             7"
      ]
     },
     "metadata": {},
     "output_type": "display_data"
    },
    {
     "name": "stdout",
     "output_type": "stream",
     "text": [
      "\n"
     ]
    }
   ],
   "source": [
    "from IPython.display import display\n",
    "tables = [\"clicks_test\", \"clicks_train\", \n",
    "          \"documents_categories\", \"documents_entities\", \"documents_meta\", \"documents_topics\", \n",
    "          \"events\", \"page_views\", \"page_views_sample\", \"promoted_content\"]\n",
    "for name in tqdm.tqdm(tables):\n",
    "    df = se.read.parquet(\"s3://ydatazian/{}.parquet\".format(name))\n",
    "    df.registerTempTable(name)\n",
    "    print(name)\n",
    "    display(df.limit(3).toPandas())"
   ]
  },
  {
   "cell_type": "markdown",
   "metadata": {},
   "source": [
    "# Prepare dataset for VW\n",
    "\n",
    "We will predict a *click* based on:\n",
    "- ad_id\n",
    "- document_id\n",
    "- campaign_id\n",
    "- advertiser_id"
   ]
  },
  {
   "cell_type": "code",
   "execution_count": 4,
   "metadata": {},
   "outputs": [
    {
     "name": "stdout",
     "output_type": "stream",
     "text": [
      "CPU times: user 5.28 ms, sys: 0 ns, total: 5.28 ms\n",
      "Wall time: 47.9 s\n"
     ]
    }
   ],
   "source": [
    "%%time\n",
    "se.sql(\"\"\"\n",
    "select \n",
    "    clicks_train.clicked,\n",
    "    clicks_train.display_id,\n",
    "    clicks_train.ad_id,\n",
    "    promoted_content.document_id,\n",
    "    promoted_content.campaign_id,\n",
    "    promoted_content.advertiser_id\n",
    "from clicks_train join promoted_content on clicks_train.ad_id = promoted_content.ad_id\n",
    "\"\"\").write.parquet(\"/train_features.parquet\", mode='overwrite')"
   ]
  },
  {
   "cell_type": "code",
   "execution_count": 5,
   "metadata": {},
   "outputs": [
    {
     "name": "stdout",
     "output_type": "stream",
     "text": [
      "+-------+----------+------+-----------+-----------+-------------+\n",
      "|clicked|display_id| ad_id|document_id|campaign_id|advertiser_id|\n",
      "+-------+----------+------+-----------+-----------+-------------+\n",
      "|      0|         1| 42337|     938164|       5969|         1499|\n",
      "|      0|         1|139684|    1085937|      17527|         2563|\n",
      "|      1|         1|144739|    1337362|      18488|         2909|\n",
      "|      0|         1|156824|     992370|       7283|         1919|\n",
      "|      0|         1|279295|    1670176|      27524|         1820|\n",
      "+-------+----------+------+-----------+-----------+-------------+\n",
      "only showing top 5 rows\n",
      "\n"
     ]
    }
   ],
   "source": [
    "se.read.parquet(\"/train_features.parquet\").show(5)"
   ]
  },
  {
   "cell_type": "code",
   "execution_count": 6,
   "metadata": {},
   "outputs": [
    {
     "name": "stdout",
     "output_type": "stream",
     "text": [
      "Row(clicked='0', display_id='1', ad_id='42337', document_id='938164', campaign_id='5969', advertiser_id='1499')\n",
      "-1 1_42337| display_id_1 ad_id_42337 document_id_938164 campaign_id_5969 advertiser_id_1499\n"
     ]
    }
   ],
   "source": [
    "# Format: [Label] [Importance] [Base] [Tag]|Namespace Features |Namespace Features ... |Namespace Features\n",
    "# https://github.com/VowpalWabbit/vowpal_wabbit/wiki/Input-format\n",
    "def vw_row_mapper(row):\n",
    "    clicked = None\n",
    "    features = []\n",
    "    for k, v in row.asDict().items():\n",
    "        if k == 'clicked':\n",
    "            clicked = '1' if v == '1' else '-1'\n",
    "        else:\n",
    "            features.append(k + \"_\" + v)\n",
    "    tag = row.display_id + \"_\" + row.ad_id\n",
    "    return \"{} {}| {}\".format(clicked, tag, \" \".join(features))\n",
    "\n",
    "r = se.read.parquet(\"/train_features.parquet\").take(1)[0]\n",
    "print(r)\n",
    "print(vw_row_mapper(r))"
   ]
  },
  {
   "cell_type": "code",
   "execution_count": 7,
   "metadata": {},
   "outputs": [
    {
     "name": "stdout",
     "output_type": "stream",
     "text": [
      "rm: `/train_features.txt': No such file or directory\n",
      "CPU times: user 24.1 ms, sys: 25.4 ms, total: 49.5 ms\n",
      "Wall time: 2min 41s\n"
     ]
    }
   ],
   "source": [
    "%%time\n",
    "! hdfs dfs -rm -r /train_features.txt\n",
    "(\n",
    "    se.read.parquet(\"/train_features.parquet\")\n",
    "    .rdd\n",
    "    .map(vw_row_mapper)\n",
    "    .saveAsTextFile(\"/train_features.txt\")\n",
    ")"
   ]
  },
  {
   "cell_type": "code",
   "execution_count": 8,
   "metadata": {},
   "outputs": [
    {
     "name": "stdout",
     "output_type": "stream",
     "text": [
      "rm: cannot remove '/mnt/train.txt': No such file or directory\n",
      "-1 1_42337| display_id_1 ad_id_42337 document_id_938164 campaign_id_5969 advertiser_id_1499\n",
      "-1 1_139684| display_id_1 ad_id_139684 document_id_1085937 campaign_id_17527 advertiser_id_2563\n",
      "1 1_144739| display_id_1 ad_id_144739 document_id_1337362 campaign_id_18488 advertiser_id_2909\n",
      "-1 1_156824| display_id_1 ad_id_156824 document_id_992370 campaign_id_7283 advertiser_id_1919\n",
      "-1 1_279295| display_id_1 ad_id_279295 document_id_1670176 campaign_id_27524 advertiser_id_1820\n"
     ]
    }
   ],
   "source": [
    "# copy file to local master node\n",
    "! rm /mnt/train.txt\n",
    "! hdfs dfs -getmerge /train_features.txt /mnt/train.txt\n",
    "# preview local file\n",
    "! head -n 5 /mnt/train.txt"
   ]
  },
  {
   "cell_type": "markdown",
   "metadata": {},
   "source": [
    "# Train VW\n",
    "https://vowpalwabbit.org/tutorials/getting_started.html\n",
    "\n",
    "https://github.com/JohnLangford/vowpal_wabbit/wiki/Command-line-arguments"
   ]
  },
  {
   "cell_type": "code",
   "execution_count": 9,
   "metadata": {},
   "outputs": [
    {
     "name": "stdout",
     "output_type": "stream",
     "text": [
      "final_regressor = model\n",
      "Enabling FTRL based optimization\n",
      "Algorithm used: Proximal-FTRL\n",
      "ftrl_alpha = 0.005\n",
      "ftrl_beta = 0.1\n",
      "Num weight bits = 24\n",
      "learning rate = 0.5\n",
      "initial_t = 0\n",
      "power_t = 0.5\n",
      "creating cache_file = /mnt/train.txt.cache\n",
      "Reading datafile = /mnt/train.txt\n",
      "num sources = 1\n",
      "average  since         example        example  current  current  current\n",
      "loss     last          counter         weight    label  predict features\n",
      "0.460142 0.460142      8000000      8000000.0  -1.0000  -1.2983        6\n",
      "0.456159 0.452175     16000000     16000000.0  -1.0000  -1.4733        6\n",
      "0.453326 0.447661     24000000     24000000.0  -1.0000  -2.3174        6\n",
      "0.452628 0.450533     32000000     32000000.0   1.0000  -0.5719        6\n",
      "0.452887 0.453924     40000000     40000000.0  -1.0000  -1.2648        6\n",
      "0.452010 0.447625     48000000     48000000.0  -1.0000  -2.6227        6\n",
      "0.451328 0.447232     56000000     56000000.0  -1.0000  -3.4451        6\n",
      "0.450649 0.445902     64000000     64000000.0  -1.0000  -1.3654        6\n",
      "0.450373 0.448160     72000000     72000000.0  -1.0000  -1.4113        6\n",
      "0.449983 0.446471     80000000     80000000.0   1.0000  -1.4889        6\n",
      "\n",
      "finished run\n",
      "number of examples = 87141731\n",
      "weighted example sum = 87141731.000000\n",
      "weighted label sum = -53392545.000000\n",
      "average loss = 0.450146\n",
      "best constant = -1.426495\n",
      "best constant's loss = 0.491466\n",
      "total feature number = 522850386\n"
     ]
    }
   ],
   "source": [
    "! ./vw -d /mnt/train.txt -b 24 -c -k --ftrl --passes 1 -f model --holdout_off --loss_function logistic --random_seed 42 --progress 8000000"
   ]
  },
  {
   "cell_type": "code",
   "execution_count": 10,
   "metadata": {},
   "outputs": [
    {
     "name": "stdout",
     "output_type": "stream",
     "text": [
      "only testing\n",
      "predictions = /mnt/predictions.txt\n",
      "Enabling FTRL based optimization\n",
      "Algorithm used: Proximal-FTRL\n",
      "ftrl_alpha = 0.005\n",
      "ftrl_beta = 0.1\n",
      "Num weight bits = 24\n",
      "learning rate = 0.5\n",
      "initial_t = 0\n",
      "power_t = 0.5\n",
      "using no cache\n",
      "Reading datafile = /mnt/test.txt\n",
      "num sources = 1\n",
      "average  since         example        example  current  current  current\n",
      "loss     last          counter         weight    label  predict features\n",
      "warning: ? is not a good float, replacing with 0\n",
      "warning: ? is not a good float, replacing with 0\n",
      "\n",
      "finished run\n",
      "number of examples = 2\n",
      "weighted example sum = 2.000000\n",
      "weighted label sum = 0.000000\n",
      "average loss = 5.674418\n",
      "total feature number = 10\n",
      "0.319263 tag1\n",
      "0.036173 tag2\n"
     ]
    }
   ],
   "source": [
    "# make prediction with VW\n",
    "! echo \"? tag1| ad_id_144739 document_id_1337362 campaign_id_18488 advertiser_id_2909\" > /mnt/test.txt\n",
    "! echo \"? tag2| ad_id_156824 document_id_992370 campaign_id_7283 advertiser_id_1919\" >> /mnt/test.txt\n",
    "! ./vw -d /mnt/test.txt -i model -t -k -p /mnt/predictions.txt --progress 1000000 --link=logistic\n",
    "# predicted probabilities of \"1\" class\n",
    "! cat /mnt/predictions.txt"
   ]
  },
  {
   "cell_type": "markdown",
   "metadata": {},
   "source": [
    "# Homework 2: Baseline VW model\n",
    "\n",
    "Train a baseline model using the following features:\n",
    "- **clicked**\n",
    "- geo_location features (country, state, dma)\n",
    "- day_of_week (from timestamp, use *date.isoweekday()*)\n",
    "- ad_id\n",
    "- campaign_id\n",
    "- advertiser_id\n",
    "- ad_document_id\n",
    "- display_document_id\n",
    "- platform\n",
    "\n",
    "Make submission to Kaggle to know your leaderboard score\n",
    "\n",
    "If you want to create a dev set, make a 90%/10% split of training data by display_id"
   ]
  },
  {
   "cell_type": "code",
   "execution_count": 117,
   "metadata": {},
   "outputs": [
    {
     "ename": "KeyboardInterrupt",
     "evalue": "",
     "output_type": "error",
     "traceback": [
      "\u001b[0;31m---------------------------------------------------------------------------\u001b[0m",
      "\u001b[0;31mKeyboardInterrupt\u001b[0m                         Traceback (most recent call last)",
      "\u001b[0;32m<timed eval>\u001b[0m in \u001b[0;36m<module>\u001b[0;34m\u001b[0m\n",
      "\u001b[0;32m/usr/lib/spark/python/pyspark/sql/readwriter.py\u001b[0m in \u001b[0;36mparquet\u001b[0;34m(self, path, mode, partitionBy, compression)\u001b[0m\n\u001b[1;32m    841\u001b[0m             \u001b[0mself\u001b[0m\u001b[0;34m.\u001b[0m\u001b[0mpartitionBy\u001b[0m\u001b[0;34m(\u001b[0m\u001b[0mpartitionBy\u001b[0m\u001b[0;34m)\u001b[0m\u001b[0;34m\u001b[0m\u001b[0;34m\u001b[0m\u001b[0m\n\u001b[1;32m    842\u001b[0m         \u001b[0mself\u001b[0m\u001b[0;34m.\u001b[0m\u001b[0m_set_opts\u001b[0m\u001b[0;34m(\u001b[0m\u001b[0mcompression\u001b[0m\u001b[0;34m=\u001b[0m\u001b[0mcompression\u001b[0m\u001b[0;34m)\u001b[0m\u001b[0;34m\u001b[0m\u001b[0;34m\u001b[0m\u001b[0m\n\u001b[0;32m--> 843\u001b[0;31m         \u001b[0mself\u001b[0m\u001b[0;34m.\u001b[0m\u001b[0m_jwrite\u001b[0m\u001b[0;34m.\u001b[0m\u001b[0mparquet\u001b[0m\u001b[0;34m(\u001b[0m\u001b[0mpath\u001b[0m\u001b[0;34m)\u001b[0m\u001b[0;34m\u001b[0m\u001b[0;34m\u001b[0m\u001b[0m\n\u001b[0m\u001b[1;32m    844\u001b[0m \u001b[0;34m\u001b[0m\u001b[0m\n\u001b[1;32m    845\u001b[0m     \u001b[0;34m@\u001b[0m\u001b[0msince\u001b[0m\u001b[0;34m(\u001b[0m\u001b[0;36m1.6\u001b[0m\u001b[0;34m)\u001b[0m\u001b[0;34m\u001b[0m\u001b[0;34m\u001b[0m\u001b[0m\n",
      "\u001b[0;32m/usr/lib/spark/python/lib/py4j-0.10.7-src.zip/py4j/java_gateway.py\u001b[0m in \u001b[0;36m__call__\u001b[0;34m(self, *args)\u001b[0m\n\u001b[1;32m   1253\u001b[0m             \u001b[0mproto\u001b[0m\u001b[0;34m.\u001b[0m\u001b[0mEND_COMMAND_PART\u001b[0m\u001b[0;34m\u001b[0m\u001b[0;34m\u001b[0m\u001b[0m\n\u001b[1;32m   1254\u001b[0m \u001b[0;34m\u001b[0m\u001b[0m\n\u001b[0;32m-> 1255\u001b[0;31m         \u001b[0manswer\u001b[0m \u001b[0;34m=\u001b[0m \u001b[0mself\u001b[0m\u001b[0;34m.\u001b[0m\u001b[0mgateway_client\u001b[0m\u001b[0;34m.\u001b[0m\u001b[0msend_command\u001b[0m\u001b[0;34m(\u001b[0m\u001b[0mcommand\u001b[0m\u001b[0;34m)\u001b[0m\u001b[0;34m\u001b[0m\u001b[0;34m\u001b[0m\u001b[0m\n\u001b[0m\u001b[1;32m   1256\u001b[0m         return_value = get_return_value(\n\u001b[1;32m   1257\u001b[0m             answer, self.gateway_client, self.target_id, self.name)\n",
      "\u001b[0;32m/usr/lib/spark/python/lib/py4j-0.10.7-src.zip/py4j/java_gateway.py\u001b[0m in \u001b[0;36msend_command\u001b[0;34m(self, command, retry, binary)\u001b[0m\n\u001b[1;32m    983\u001b[0m         \u001b[0mconnection\u001b[0m \u001b[0;34m=\u001b[0m \u001b[0mself\u001b[0m\u001b[0;34m.\u001b[0m\u001b[0m_get_connection\u001b[0m\u001b[0;34m(\u001b[0m\u001b[0;34m)\u001b[0m\u001b[0;34m\u001b[0m\u001b[0;34m\u001b[0m\u001b[0m\n\u001b[1;32m    984\u001b[0m         \u001b[0;32mtry\u001b[0m\u001b[0;34m:\u001b[0m\u001b[0;34m\u001b[0m\u001b[0;34m\u001b[0m\u001b[0m\n\u001b[0;32m--> 985\u001b[0;31m             \u001b[0mresponse\u001b[0m \u001b[0;34m=\u001b[0m \u001b[0mconnection\u001b[0m\u001b[0;34m.\u001b[0m\u001b[0msend_command\u001b[0m\u001b[0;34m(\u001b[0m\u001b[0mcommand\u001b[0m\u001b[0;34m)\u001b[0m\u001b[0;34m\u001b[0m\u001b[0;34m\u001b[0m\u001b[0m\n\u001b[0m\u001b[1;32m    986\u001b[0m             \u001b[0;32mif\u001b[0m \u001b[0mbinary\u001b[0m\u001b[0;34m:\u001b[0m\u001b[0;34m\u001b[0m\u001b[0;34m\u001b[0m\u001b[0m\n\u001b[1;32m    987\u001b[0m                 \u001b[0;32mreturn\u001b[0m \u001b[0mresponse\u001b[0m\u001b[0;34m,\u001b[0m \u001b[0mself\u001b[0m\u001b[0;34m.\u001b[0m\u001b[0m_create_connection_guard\u001b[0m\u001b[0;34m(\u001b[0m\u001b[0mconnection\u001b[0m\u001b[0;34m)\u001b[0m\u001b[0;34m\u001b[0m\u001b[0;34m\u001b[0m\u001b[0m\n",
      "\u001b[0;32m/usr/lib/spark/python/lib/py4j-0.10.7-src.zip/py4j/java_gateway.py\u001b[0m in \u001b[0;36msend_command\u001b[0;34m(self, command)\u001b[0m\n\u001b[1;32m   1150\u001b[0m \u001b[0;34m\u001b[0m\u001b[0m\n\u001b[1;32m   1151\u001b[0m         \u001b[0;32mtry\u001b[0m\u001b[0;34m:\u001b[0m\u001b[0;34m\u001b[0m\u001b[0;34m\u001b[0m\u001b[0m\n\u001b[0;32m-> 1152\u001b[0;31m             \u001b[0manswer\u001b[0m \u001b[0;34m=\u001b[0m \u001b[0msmart_decode\u001b[0m\u001b[0;34m(\u001b[0m\u001b[0mself\u001b[0m\u001b[0;34m.\u001b[0m\u001b[0mstream\u001b[0m\u001b[0;34m.\u001b[0m\u001b[0mreadline\u001b[0m\u001b[0;34m(\u001b[0m\u001b[0;34m)\u001b[0m\u001b[0;34m[\u001b[0m\u001b[0;34m:\u001b[0m\u001b[0;34m-\u001b[0m\u001b[0;36m1\u001b[0m\u001b[0;34m]\u001b[0m\u001b[0;34m)\u001b[0m\u001b[0;34m\u001b[0m\u001b[0;34m\u001b[0m\u001b[0m\n\u001b[0m\u001b[1;32m   1153\u001b[0m             \u001b[0mlogger\u001b[0m\u001b[0;34m.\u001b[0m\u001b[0mdebug\u001b[0m\u001b[0;34m(\u001b[0m\u001b[0;34m\"Answer received: {0}\"\u001b[0m\u001b[0;34m.\u001b[0m\u001b[0mformat\u001b[0m\u001b[0;34m(\u001b[0m\u001b[0manswer\u001b[0m\u001b[0;34m)\u001b[0m\u001b[0;34m)\u001b[0m\u001b[0;34m\u001b[0m\u001b[0;34m\u001b[0m\u001b[0m\n\u001b[1;32m   1154\u001b[0m             \u001b[0;32mif\u001b[0m \u001b[0manswer\u001b[0m\u001b[0;34m.\u001b[0m\u001b[0mstartswith\u001b[0m\u001b[0;34m(\u001b[0m\u001b[0mproto\u001b[0m\u001b[0;34m.\u001b[0m\u001b[0mRETURN_MESSAGE\u001b[0m\u001b[0;34m)\u001b[0m\u001b[0;34m:\u001b[0m\u001b[0;34m\u001b[0m\u001b[0;34m\u001b[0m\u001b[0m\n",
      "\u001b[0;32m/usr/lib64/python3.6/socket.py\u001b[0m in \u001b[0;36mreadinto\u001b[0;34m(self, b)\u001b[0m\n\u001b[1;32m    584\u001b[0m         \u001b[0;32mwhile\u001b[0m \u001b[0;32mTrue\u001b[0m\u001b[0;34m:\u001b[0m\u001b[0;34m\u001b[0m\u001b[0;34m\u001b[0m\u001b[0m\n\u001b[1;32m    585\u001b[0m             \u001b[0;32mtry\u001b[0m\u001b[0;34m:\u001b[0m\u001b[0;34m\u001b[0m\u001b[0;34m\u001b[0m\u001b[0m\n\u001b[0;32m--> 586\u001b[0;31m                 \u001b[0;32mreturn\u001b[0m \u001b[0mself\u001b[0m\u001b[0;34m.\u001b[0m\u001b[0m_sock\u001b[0m\u001b[0;34m.\u001b[0m\u001b[0mrecv_into\u001b[0m\u001b[0;34m(\u001b[0m\u001b[0mb\u001b[0m\u001b[0;34m)\u001b[0m\u001b[0;34m\u001b[0m\u001b[0;34m\u001b[0m\u001b[0m\n\u001b[0m\u001b[1;32m    587\u001b[0m             \u001b[0;32mexcept\u001b[0m \u001b[0mtimeout\u001b[0m\u001b[0;34m:\u001b[0m\u001b[0;34m\u001b[0m\u001b[0;34m\u001b[0m\u001b[0m\n\u001b[1;32m    588\u001b[0m                 \u001b[0mself\u001b[0m\u001b[0;34m.\u001b[0m\u001b[0m_timeout_occurred\u001b[0m \u001b[0;34m=\u001b[0m \u001b[0;32mTrue\u001b[0m\u001b[0;34m\u001b[0m\u001b[0;34m\u001b[0m\u001b[0m\n",
      "\u001b[0;31mKeyboardInterrupt\u001b[0m: "
     ]
    }
   ],
   "source": [
    "%%time\n",
    "se.sql(\"\"\"\n",
    "with base_features as (\n",
    "select \n",
    "    clicks_train.clicked,\n",
    "    clicks_train.display_id,\n",
    "    clicks_train.ad_id,\n",
    "    promoted_content.document_id as ad_document_id,\n",
    "    promoted_content.campaign_id,\n",
    "    promoted_content.advertiser_id,\n",
    "    events.timestamp,\n",
    "    events.geo_location,\n",
    "    events.platform,\n",
    "    events.document_id as display_document_id\n",
    "from clicks_train join promoted_content on clicks_train.ad_id = promoted_content.ad_id\n",
    "                  join events on clicks_train.display_id = events.display_id)\n",
    "                  select * from base_features\n",
    "\"\"\").write.parquet(\"/train_features_extended.parquet\", mode='overwrite')"
   ]
  },
  {
   "cell_type": "code",
   "execution_count": 126,
   "metadata": {},
   "outputs": [
    {
     "name": "stdout",
     "output_type": "stream",
     "text": [
      "CPU times: user 5.45 ms, sys: 336 µs, total: 5.79 ms\n",
      "Wall time: 1min 10s\n"
     ]
    }
   ],
   "source": [
    "%%time\n",
    "se.sql(\"\"\"\n",
    "with base_features as (\n",
    "select \n",
    "    clicks_train.clicked,\n",
    "    clicks_train.display_id,\n",
    "    clicks_train.ad_id,\n",
    "    promoted_content.document_id as ad_document_id,\n",
    "    promoted_content.campaign_id,\n",
    "    promoted_content.advertiser_id,\n",
    "    events.timestamp,\n",
    "    events.geo_location,\n",
    "    events.platform,\n",
    "    events.document_id as display_document_id\n",
    "    from clicks_train join promoted_content on clicks_train.ad_id = promoted_content.ad_id\n",
    "                  join events on clicks_train.display_id = events.display_id),\n",
    "                  \n",
    "    document_categories as \n",
    "    (select document_id, collect_list(category_id) as categories \n",
    "    from documents_categories group by document_id\n",
    "    ),\n",
    "    \n",
    "    document_topics as \n",
    "    (select document_id, collect_list(topic_id) as topics\n",
    "    from documents_topics group by document_id\n",
    "    )\n",
    "    \n",
    "    select base_features.*, document_categories.categories cats, document_topics.topics topics from base_features \n",
    "    join document_categories on base_features.ad_document_id = document_categories.document_id\n",
    "    join document_topics on base_features.ad_document_id = document_topics.document_id\n",
    "                  \n",
    "\"\"\").write.parquet(\"/train_features_extended.parquet\", mode='overwrite')"
   ]
  },
  {
   "cell_type": "code",
   "execution_count": 130,
   "metadata": {},
   "outputs": [
    {
     "name": "stdout",
     "output_type": "stream",
     "text": [
      "Row(clicked='0', display_id='10876513', ad_id='59936', ad_document_id='1009080', campaign_id='7839', advertiser_id='2158', timestamp='730711821', geo_location='US>IL>602', platform='2', display_document_id='2429708', cats=['1609', '1512'], topics=['123', '285'])\n",
      "\n",
      "-1 10876513_59936| display_id_10876513 ad_id_59936 ad_document_id_1009080 campaign_id_7839 advertiser_id_2158 weekday_3 state_IL country_US platform_2 display_document_id_2429708 category_1609 category_1512 topic_123 topic_285\n"
     ]
    }
   ],
   "source": [
    "from datetime import datetime\n",
    "\n",
    "INIT_TIMESTAMP = 1465876799\n",
    "\n",
    "def vw_row_mapper_extended(row):\n",
    "    clicked = None\n",
    "    features = []\n",
    "    for k, v in row.asDict().items():\n",
    "        if k == 'cats':\n",
    "            for cat in v:\n",
    "                features.append(\"category\" + \"_\" + cat),\n",
    "        elif k == 'topics':\n",
    "            for topic in v:\n",
    "                features.append(\"topic\" + \"_\" + topic)\n",
    "        elif k == 'geo_location':\n",
    "            if v:\n",
    "                args = v.split(\">\")\n",
    "                if len(args) == 3:\n",
    "                    country, state, dma = args\n",
    "                    features.append(\"state\" + \"_\" + state)\n",
    "                elif len(args) == 2:\n",
    "                    country, dma = args\n",
    "                    features.append(\"dma\" + \"_\" + dma)\n",
    "                elif len(args) == 1:\n",
    "                    country = args[0]\n",
    "                else:\n",
    "                    raise RuntimeError(\"Unknown geolocation format:\", v)\n",
    "\n",
    "                features.append(\"country\" + \"_\" + country)\n",
    "            \n",
    "        elif k == 'timestamp':\n",
    "            v = int(v)\n",
    "            v += INIT_TIMESTAMP\n",
    "            v = datetime.utcfromtimestamp(v).isoweekday()\n",
    "            features.append('weekday' + \"_\" + str(v))\n",
    "        elif k == 'clicked':\n",
    "            clicked = '1' if v == '1' else '-1'\n",
    "        else:\n",
    "            features.append(k + \"_\" + v)\n",
    "    tag = row.display_id + \"_\" + row.ad_id\n",
    "    return \"{} {}| {}\".format(clicked, tag, \" \".join(features))\n",
    "\n",
    "r = se.read.parquet(\"/train_features_extended.parquet\").take(1)[0]\n",
    "print(r)\n",
    "print()\n",
    "print(vw_row_mapper_extended(r))"
   ]
  },
  {
   "cell_type": "code",
   "execution_count": 132,
   "metadata": {},
   "outputs": [
    {
     "name": "stdout",
     "output_type": "stream",
     "text": [
      "Deleted /train_features_extended.txt\n",
      "CPU times: user 49.7 ms, sys: 21.2 ms, total: 70.9 ms\n",
      "Wall time: 1min 7s\n"
     ]
    }
   ],
   "source": [
    "%%time\n",
    "! hdfs dfs -rm -r /train_features_extended.txt\n",
    "(\n",
    "    se.read.parquet(\"/train_features_extended.parquet\")\n",
    "    .rdd\n",
    "    .map(vw_row_mapper_extended)\n",
    "    .saveAsTextFile(\"/train_features_extended.txt\")\n",
    ")"
   ]
  },
  {
   "cell_type": "code",
   "execution_count": 87,
   "metadata": {},
   "outputs": [
    {
     "name": "stdout",
     "output_type": "stream",
     "text": [
      "-1 10827410_59937| display_id_10827410 ad_id_59937 ad_document_id_1009080 campaign_id_7839 advertiser_id_2158 weekday_3 state_CA country_US platform_2 display_document_id_2479608 category_id_1609\r\n",
      "-1 10827410_59937| display_id_10827410 ad_id_59937 ad_document_id_1009080 campaign_id_7839 advertiser_id_2158 weekday_3 state_CA country_US platform_2 display_document_id_2479608 category_id_1512\r\n",
      "-1 12006881_59937| display_id_12006881 ad_id_59937 ad_document_id_1009080 campaign_id_7839 advertiser_id_2158 weekday_2 state_CA country_US platform_2 display_document_id_2490786 category_id_1609\r\n",
      "-1 12006881_59937| display_id_12006881 ad_id_59937 ad_document_id_1009080 campaign_id_7839 advertiser_id_2158 weekday_2 state_CA country_US platform_2 display_document_id_2490786 category_id_1512\r\n",
      "-1 12032505_59936| display_id_12032505 ad_id_59936 ad_document_id_1009080 campaign_id_7839 advertiser_id_2158 weekday_6 state_MA country_US platform_2 display_document_id_36610 category_id_1609\r\n"
     ]
    }
   ],
   "source": [
    "# copy file to local master node\n",
    "! rm /mnt/train_extended.txt\n",
    "! hdfs dfs -getmerge /train_features_extended.txt /mnt/train_extended.txt\n",
    "# preview local file\n",
    "! head -n 5 /mnt/train_extended.txt"
   ]
  },
  {
   "cell_type": "code",
   "execution_count": 88,
   "metadata": {},
   "outputs": [
    {
     "name": "stdout",
     "output_type": "stream",
     "text": [
      "final_regressor = model_extended\n",
      "Enabling FTRL based optimization\n",
      "Algorithm used: Proximal-FTRL\n",
      "ftrl_alpha = 0.005\n",
      "ftrl_beta = 0.1\n",
      "Num weight bits = 24\n",
      "learning rate = 0.5\n",
      "initial_t = 0\n",
      "power_t = 0.5\n",
      "creating cache_file = /mnt/train_extended.txt.cache\n",
      "Reading datafile = /mnt/train_extended.txt\n",
      "num sources = 1\n",
      "average  since         example        example  current  current  current\n",
      "loss     last          counter         weight    label  predict features\n",
      "0.448344 0.448344      8000000      8000000.0   1.0000  -0.8772       12\n",
      "0.456448 0.464551     16000000     16000000.0  -1.0000  -1.2751       12\n",
      "0.451263 0.440895     24000000     24000000.0  -1.0000  -1.5126       12\n",
      "0.461087 0.490556     32000000     32000000.0  -1.0000  -2.5421       12\n",
      "0.444787 0.379587     40000000     40000000.0  -1.0000  -2.4905       12\n",
      "0.448269 0.465680     48000000     48000000.0  -1.0000  -2.3497       12\n",
      "0.450470 0.463673     56000000     56000000.0  -1.0000  -0.8038       12\n",
      "0.450127 0.447727     64000000     64000000.0  -1.0000  -1.1914       12\n",
      "0.451404 0.461618     72000000     72000000.0  -1.0000  -0.6212       12\n",
      "0.449724 0.434608     80000000     80000000.0   1.0000  -0.6625       12\n",
      "0.447620 0.426576     88000000     88000000.0   1.0000  -0.8885       12\n",
      "0.447684 0.448392     96000000     96000000.0   1.0000  -0.4850       12\n",
      "0.447410 0.444119    104000000    104000000.0  -1.0000  -3.3174       12\n",
      "0.447730 0.451887    112000000    112000000.0  -1.0000  -0.8966       12\n",
      "0.446198 0.424758    120000000    120000000.0   1.0000  -1.5634       12\n",
      "0.447576 0.468250    128000000    128000000.0  -1.0000  -1.8909       12\n",
      "0.443662 0.381025    136000000    136000000.0  -1.0000  -2.3979       12\n",
      "0.441831 0.410707    144000000    144000000.0  -1.0000  -1.6536       12\n",
      "0.443663 0.476651    152000000    152000000.0  -1.0000  -1.2336       12\n",
      "0.443499 0.440366    160000000    160000000.0   1.0000  -1.1477       12\n",
      "0.443623 0.446118    168000000    168000000.0  -1.0000  -1.3571       12\n",
      "\n",
      "finished run\n",
      "number of examples = 172597861\n",
      "weighted example sum = 172597861.000000\n",
      "weighted label sum = -105700321.000000\n",
      "average loss = 0.444464\n",
      "best constant = -1.425531\n",
      "best constant's loss = 0.491681\n",
      "total feature number = 2062779740\n"
     ]
    }
   ],
   "source": [
    "! ./vw -d /mnt/train_extended.txt -b 24 -c -k --ftrl --passes 1 -f model_extended --holdout_off --loss_function logistic --random_seed 42 --progress 8000000"
   ]
  },
  {
   "cell_type": "code",
   "execution_count": 89,
   "metadata": {},
   "outputs": [
    {
     "name": "stdout",
     "output_type": "stream",
     "text": [
      "CPU times: user 4.63 ms, sys: 0 ns, total: 4.63 ms\n",
      "Wall time: 50.6 s\n"
     ]
    }
   ],
   "source": [
    "%%time\n",
    "se.sql(\"\"\"\n",
    "select \n",
    "    \"0\" as clicked,\n",
    "    clicks_test.display_id,\n",
    "    clicks_test.ad_id,\n",
    "    promoted_content.document_id as ad_document_id,\n",
    "    promoted_content.campaign_id,\n",
    "    promoted_content.advertiser_id,\n",
    "    events.timestamp,\n",
    "    events.geo_location,\n",
    "    events.platform,\n",
    "    events.document_id as display_document_id,\n",
    "    documents_categories.category_id\n",
    "from clicks_test join promoted_content on clicks_test.ad_id = promoted_content.ad_id\n",
    "                  join events on clicks_test.display_id = events.display_id\n",
    "                  join documents_categories on documents_categories.document_id = promoted_content.document_id\n",
    "\"\"\").write.parquet(\"/test_features_extended.parquet\", mode='overwrite')"
   ]
  },
  {
   "cell_type": "markdown",
   "metadata": {},
   "source": [
    "# Submitting to Kaggle\n",
    "\n",
    "Obtain Kaggle API token: https://github.com/Kaggle/kaggle-api#api-credentials\n",
    "\n",
    "Making a submission: https://github.com/Kaggle/kaggle-api#submit-to-a-competition"
   ]
  },
  {
   "cell_type": "code",
   "execution_count": 11,
   "metadata": {},
   "outputs": [
    {
     "name": "stdout",
     "output_type": "stream",
     "text": [
      "{\"username\":\"stanleybar\",\"key\":\"e9e37e881fb09d147d9bfac3fb1276d5\"}\r\n"
     ]
    }
   ],
   "source": [
    "! mkdir ~/.kaggle\n",
    "! touch ~/.kaggle/kaggle.json\n",
    "! echo '{\"username\":\"stanleybar\",\"key\":\"e9e37e881fb09d147d9bfac3fb1276d5\"}' > ~/.kaggle/kaggle.json\n",
    "! cat ~/.kaggle/kaggle.json\n",
    "! chmod 600 /home/hadoop/.kaggle/kaggle.json"
   ]
  },
  {
   "cell_type": "code",
   "execution_count": 12,
   "metadata": {},
   "outputs": [
    {
     "name": "stdout",
     "output_type": "stream",
     "text": [
      "download: s3://ydatazian/sample_submission.csv to ./sample_submission.csv\n"
     ]
    }
   ],
   "source": [
    "! aws s3 cp s3://ydatazian/sample_submission.csv ."
   ]
  },
  {
   "cell_type": "code",
   "execution_count": 13,
   "metadata": {},
   "outputs": [
    {
     "name": "stdout",
     "output_type": "stream",
     "text": [
      "display_id,ad_id\r\n",
      "16874594,66758 150083 162754 170392 172888 180797\r\n",
      "16874595,8846 30609 143982\r\n",
      "16874596,11430 57197 132820 153260 173005 288385 289122 289915\r\n",
      "16874597,137858 143981 155945 180965 182039 285834 305790 308836\r\n"
     ]
    }
   ],
   "source": [
    "# https://www.kaggle.com/c/outbrain-click-prediction/overview/evaluation\n",
    "# For each display_id in the test set, you must predict a space-delimited list of ad_ids, \n",
    "# ordered by decreasing likelihood of being clicked.\n",
    "! head -n 5 ./sample_submission.csv"
   ]
  },
  {
   "cell_type": "code",
   "execution_count": 15,
   "metadata": {},
   "outputs": [
    {
     "name": "stdout",
     "output_type": "stream",
     "text": [
      "CPU times: user 1.13 ms, sys: 2.32 ms, total: 3.45 ms\n",
      "Wall time: 44.8 s\n"
     ]
    }
   ],
   "source": [
    "%%time\n",
    "se.sql(\"\"\"\n",
    "select \n",
    "    \"0\" as clicked,\n",
    "    clicks_test.display_id,\n",
    "    clicks_test.ad_id,\n",
    "    promoted_content.document_id,\n",
    "    promoted_content.campaign_id,\n",
    "    promoted_content.advertiser_id\n",
    "from clicks_test join promoted_content on clicks_test.ad_id = promoted_content.ad_id\n",
    "\"\"\").write.parquet(\"/test_features.parquet\", mode='overwrite')"
   ]
  },
  {
   "cell_type": "code",
   "execution_count": 16,
   "metadata": {},
   "outputs": [
    {
     "name": "stdout",
     "output_type": "stream",
     "text": [
      "rm: `/test_features.txt': No such file or directory\n",
      "CPU times: user 22.8 ms, sys: 14.4 ms, total: 37.1 ms\n",
      "Wall time: 2min 31s\n"
     ]
    }
   ],
   "source": [
    "%%time\n",
    "! hdfs dfs -rm -r /test_features.txt\n",
    "(\n",
    "    se.read.parquet(\"/test_features.parquet\")\n",
    "    .rdd\n",
    "    .map(vw_row_mapper)\n",
    "    .saveAsTextFile(\"/test_features.txt\")\n",
    ")"
   ]
  },
  {
   "cell_type": "code",
   "execution_count": 17,
   "metadata": {},
   "outputs": [
    {
     "name": "stdout",
     "output_type": "stream",
     "text": [
      "-1 16874594_66758| display_id_16874594 ad_id_66758 document_id_1051283 campaign_id_8949 advertiser_id_555\r\n",
      "-1 16874594_150083| display_id_16874594 ad_id_150083 document_id_1358132 campaign_id_19045 advertiser_id_1913\r\n",
      "-1 16874594_162754| display_id_16874594 ad_id_162754 document_id_1292723 campaign_id_17770 advertiser_id_2391\r\n",
      "-1 16874594_170392| display_id_16874594 ad_id_170392 document_id_1083829 campaign_id_20943 advertiser_id_1731\r\n",
      "-1 16874594_172888| display_id_16874594 ad_id_172888 document_id_1433954 campaign_id_1384 advertiser_id_16\r\n"
     ]
    }
   ],
   "source": [
    "# copy file to local master node\n",
    "! rm /mnt/test.txt\n",
    "! hdfs dfs -getmerge /test_features.txt /mnt/test.txt\n",
    "# preview local file\n",
    "! head -n 5 /mnt/test.txt"
   ]
  },
  {
   "cell_type": "code",
   "execution_count": 18,
   "metadata": {
    "scrolled": true
   },
   "outputs": [
    {
     "name": "stdout",
     "output_type": "stream",
     "text": [
      "only testing\n",
      "predictions = /mnt/predictions.txt\n",
      "Enabling FTRL based optimization\n",
      "Algorithm used: Proximal-FTRL\n",
      "ftrl_alpha = 0.005\n",
      "ftrl_beta = 0.1\n",
      "Num weight bits = 24\n",
      "learning rate = 0.5\n",
      "initial_t = 0\n",
      "power_t = 0.5\n",
      "using no cache\n",
      "Reading datafile = /mnt/test.txt\n",
      "num sources = 1\n",
      "average  since         example        example  current  current  current\n",
      "loss     last          counter         weight    label  predict features\n",
      "0.882649 0.882649      1000000      1000000.0  -1.0000   0.0992        6\n",
      "0.892969 0.903290      2000000      2000000.0  -1.0000   0.2038        6\n",
      "0.909992 0.944038      3000000      3000000.0  -1.0000   0.1904        6\n",
      "0.930778 0.993135      4000000      4000000.0  -1.0000   0.1299        6\n",
      "0.940643 0.980106      5000000      5000000.0  -1.0000   0.2314        6\n",
      "0.936147 0.913665      6000000      6000000.0  -1.0000   0.2526        6\n",
      "0.931488 0.903531      7000000      7000000.0  -1.0000   0.1489        6\n",
      "0.934737 0.957483      8000000      8000000.0  -1.0000   0.1199        6\n",
      "0.934686 0.934280      9000000      9000000.0  -1.0000   0.2714        6\n",
      "0.933653 0.924351     10000000     10000000.0  -1.0000   0.4612        6\n",
      "0.933516 0.932154     11000000     11000000.0  -1.0000   0.0987        6\n",
      "0.939386 1.003949     12000000     12000000.0  -1.0000   0.0323        6\n",
      "0.937430 0.913961     13000000     13000000.0  -1.0000   0.2975        6\n",
      "0.937388 0.936846     14000000     14000000.0  -1.0000   0.4423        6\n",
      "0.932586 0.865356     15000000     15000000.0  -1.0000   0.2861        6\n",
      "0.927574 0.852393     16000000     16000000.0  -1.0000   0.1947        6\n",
      "0.908712 0.606920     17000000     17000000.0  -1.0000   0.3701        6\n",
      "0.903679 0.818119     18000000     18000000.0  -1.0000   0.1702        6\n",
      "0.903691 0.903900     19000000     19000000.0  -1.0000   0.1761        6\n",
      "0.906186 0.953586     20000000     20000000.0  -1.0000   0.1551        6\n",
      "0.908422 0.953142     21000000     21000000.0  -1.0000   0.1543        6\n",
      "0.910019 0.943571     22000000     22000000.0  -1.0000   0.1971        6\n",
      "0.912406 0.964913     23000000     23000000.0  -1.0000   0.0581        6\n",
      "0.912509 0.914884     24000000     24000000.0  -1.0000   0.1630        6\n",
      "0.902634 0.665632     25000000     25000000.0  -1.0000   0.0789        6\n",
      "0.894178 0.682778     26000000     26000000.0  -1.0000   0.1098        6\n",
      "0.891421 0.819737     27000000     27000000.0  -1.0000   0.1875        6\n",
      "0.890192 0.856993     28000000     28000000.0  -1.0000   0.0726        6\n",
      "0.889943 0.882986     29000000     29000000.0  -1.0000   0.0642        6\n",
      "0.890587 0.909264     30000000     30000000.0  -1.0000   0.2127        6\n",
      "0.892051 0.935973     31000000     31000000.0  -1.0000   0.2621        6\n",
      "0.893960 0.953147     32000000     32000000.0  -1.0000   0.1908        6\n",
      "\n",
      "finished run\n",
      "number of examples = 32225162\n",
      "weighted example sum = 32225162.000000\n",
      "weighted label sum = -32225162.000000\n",
      "average loss = 0.893900\n",
      "best constant = -1.000000\n",
      "best constant's loss = 0.000000\n",
      "total feature number = 193350972\n",
      "0.081203 16874594_66758\n",
      "0.067638 16874594_150083\n",
      "0.214070 16874594_162754\n",
      "0.316799 16874594_170392\n",
      "0.312524 16874594_172888\n"
     ]
    }
   ],
   "source": [
    "! ./vw -d /mnt/test.txt -i model -t -k -p /mnt/predictions.txt --progress 1000000 --link=logistic\n",
    "# predicted probabilities of \"1\" class\n",
    "! head -n 5 /mnt/predictions.txt"
   ]
  },
  {
   "cell_type": "code",
   "execution_count": 19,
   "metadata": {},
   "outputs": [
    {
     "name": "stdout",
     "output_type": "stream",
     "text": [
      "32225162 /mnt/predictions.txt\r\n"
     ]
    }
   ],
   "source": [
    "! wc -l /mnt/predictions.txt"
   ]
  },
  {
   "cell_type": "code",
   "execution_count": 20,
   "metadata": {},
   "outputs": [
    {
     "data": {
      "application/vnd.jupyter.widget-view+json": {
       "model_id": "74d958ce0e65481b9252b1be7ff6b561",
       "version_major": 2,
       "version_minor": 0
      },
      "text/plain": [
       "HBox(children=(FloatProgress(value=1.0, bar_style='info', max=1.0), HTML(value='')))"
      ]
     },
     "metadata": {},
     "output_type": "display_data"
    },
    {
     "name": "stdout",
     "output_type": "stream",
     "text": [
      "\n"
     ]
    }
   ],
   "source": [
    "from collections import defaultdict\n",
    "scores_by_display_id = defaultdict(dict)\n",
    "for line in tqdm.tqdm(open('/mnt/predictions.txt')):\n",
    "    score, tag = line.strip().split(\" \")\n",
    "    score = float(score)\n",
    "    display_id, ad_id = tag.split(\"_\")\n",
    "    scores_by_display_id[display_id][ad_id] = score"
   ]
  },
  {
   "cell_type": "code",
   "execution_count": 21,
   "metadata": {},
   "outputs": [
    {
     "data": {
      "application/vnd.jupyter.widget-view+json": {
       "model_id": "19c93b60aa10483085dfdac2ee79193d",
       "version_major": 2,
       "version_minor": 0
      },
      "text/plain": [
       "HBox(children=(FloatProgress(value=0.0, max=6245533.0), HTML(value='')))"
      ]
     },
     "metadata": {},
     "output_type": "display_data"
    },
    {
     "name": "stdout",
     "output_type": "stream",
     "text": [
      "\n"
     ]
    }
   ],
   "source": [
    "with open(\"submission.txt\", \"w\") as f:\n",
    "    f.write(\"display_id,ad_id\\n\")\n",
    "    for k, vs in tqdm.tqdm_notebook(scores_by_display_id.items()):\n",
    "        f.write(\"{},{}\\n\".format(\n",
    "            k, \n",
    "            \" \".join([v[0] for v in sorted(vs.items(), key=lambda x: -x[1])])\n",
    "        ))"
   ]
  },
  {
   "cell_type": "code",
   "execution_count": 22,
   "metadata": {},
   "outputs": [
    {
     "name": "stdout",
     "output_type": "stream",
     "text": [
      "100%|########################################| 260M/260M [00:04<00:00, 58.2MB/s]\n",
      "Successfully submitted to Outbrain Click Prediction"
     ]
    }
   ],
   "source": [
    "! kaggle competitions submit -f submission.txt outbrain-click-prediction -m \"baseline\""
   ]
  },
  {
   "cell_type": "markdown",
   "metadata": {},
   "source": [
    "## SUBMIT EXTENDED MODEL"
   ]
  },
  {
   "cell_type": "code",
   "execution_count": 90,
   "metadata": {},
   "outputs": [
    {
     "name": "stdout",
     "output_type": "stream",
     "text": [
      "Deleted /test_features_extended.txt\n",
      "CPU times: user 28.3 ms, sys: 101 ms, total: 129 ms\n",
      "Wall time: 43.8 s\n"
     ]
    }
   ],
   "source": [
    "%%time\n",
    "! hdfs dfs -rm -r /test_features_extended.txt\n",
    "(\n",
    "    se.read.parquet(\"/test_features_extended.parquet\")\n",
    "    .rdd\n",
    "    .map(vw_row_mapper_extended)\n",
    "    .saveAsTextFile(\"/test_features_extended.txt\")\n",
    ")\n",
    "\n"
   ]
  },
  {
   "cell_type": "code",
   "execution_count": 91,
   "metadata": {},
   "outputs": [
    {
     "name": "stdout",
     "output_type": "stream",
     "text": [
      "-1 17678294_59937| display_id_17678294 ad_id_59937 ad_document_id_1009080 campaign_id_7839 advertiser_id_2158 weekday_6 state_NY country_US platform_2 display_document_id_2093324 category_id_1609\r\n",
      "-1 17678294_59937| display_id_17678294 ad_id_59937 ad_document_id_1009080 campaign_id_7839 advertiser_id_2158 weekday_6 state_NY country_US platform_2 display_document_id_2093324 category_id_1512\r\n",
      "-1 18284158_59937| display_id_18284158 ad_id_59937 ad_document_id_1009080 campaign_id_7839 advertiser_id_2158 weekday_3 state_NY country_US platform_2 display_document_id_1026091 category_id_1609\r\n",
      "-1 18284158_59937| display_id_18284158 ad_id_59937 ad_document_id_1009080 campaign_id_7839 advertiser_id_2158 weekday_3 state_NY country_US platform_2 display_document_id_1026091 category_id_1512\r\n",
      "-1 19037404_59937| display_id_19037404 ad_id_59937 ad_document_id_1009080 campaign_id_7839 advertiser_id_2158 weekday_2 country_US platform_2 display_document_id_2574546 category_id_1609\r\n"
     ]
    }
   ],
   "source": [
    "# copy file to local master node\n",
    "! rm /mnt/test_extended.txt\n",
    "! hdfs dfs -getmerge /test_features_extended.txt /mnt/test_extended.txt\n",
    "# preview local file\n",
    "! head -n 5 /mnt/test_extended.txt"
   ]
  },
  {
   "cell_type": "code",
   "execution_count": 92,
   "metadata": {},
   "outputs": [
    {
     "name": "stdout",
     "output_type": "stream",
     "text": [
      "only testing\n",
      "predictions = /mnt/predictions_extended.txt\n",
      "Enabling FTRL based optimization\n",
      "Algorithm used: Proximal-FTRL\n",
      "ftrl_alpha = 0.005\n",
      "ftrl_beta = 0.1\n",
      "Num weight bits = 24\n",
      "learning rate = 0.5\n",
      "initial_t = 0\n",
      "power_t = 0.5\n",
      "using no cache\n",
      "Reading datafile = /mnt/test_extended.txt\n",
      "num sources = 1\n",
      "average  since         example        example  current  current  current\n",
      "loss     last          counter         weight    label  predict features\n",
      "1.650104 1.650104      1000000      1000000.0  -1.0000   0.4100       12\n",
      "1.364729 1.079355      2000000      2000000.0  -1.0000   0.0762       12\n",
      "1.159788 0.749906      3000000      3000000.0  -1.0000   0.0358       12\n",
      "1.047206 0.709460      4000000      4000000.0  -1.0000   0.1855       12\n",
      "1.093285 1.277598      5000000      5000000.0  -1.0000   0.2591       12\n",
      "1.054614 0.861260      6000000      6000000.0  -1.0000   0.0949       12\n",
      "1.222118 2.227146      7000000      7000000.0  -1.0000   0.3512       12\n",
      "1.161776 0.739375      8000000      8000000.0  -1.0000   0.1565       12\n",
      "1.099579 0.602009      9000000      9000000.0  -1.0000   0.1719       12\n",
      "1.074110 0.844890     10000000     10000000.0  -1.0000   0.5413       12\n",
      "1.100988 1.369764     11000000     11000000.0  -1.0000   0.2333       12\n",
      "1.134575 1.504028     12000000     12000000.0  -1.0000   0.0622       12\n",
      "1.174523 1.653898     13000000     13000000.0  -1.0000   0.0868       12\n",
      "1.158660 0.952450     14000000     14000000.0  -1.0000   0.1102       12\n",
      "1.146962 0.983191     15000000     15000000.0  -1.0000   0.0286       12\n",
      "1.118397 0.689925     16000000     16000000.0  -1.0000   0.2077       12\n",
      "1.082735 0.512134     17000000     17000000.0  -1.0000   0.2578       11\n",
      "1.079630 1.026841     18000000     18000000.0  -1.0000   0.0574       12\n",
      "1.082192 1.128317     19000000     19000000.0  -1.0000   0.0861       12\n",
      "1.082125 1.080852     20000000     20000000.0  -1.0000   0.1718       12\n",
      "1.077776 0.990790     21000000     21000000.0  -1.0000   0.2546       12\n",
      "1.070215 0.911428     22000000     22000000.0  -1.0000   0.1203       12\n",
      "1.058022 0.789794     23000000     23000000.0  -1.0000   0.1346       12\n",
      "1.109815 2.301038     24000000     24000000.0  -1.0000   0.2226       12\n",
      "1.107695 1.056827     25000000     25000000.0  -1.0000   0.0732       11\n",
      "1.102926 0.983694     26000000     26000000.0  -1.0000   0.1877       12\n",
      "1.148922 2.344830     27000000     27000000.0  -1.0000   0.2431       12\n",
      "1.133788 0.725159     28000000     28000000.0  -1.0000   0.1594       12\n",
      "1.140883 1.339542     29000000     29000000.0  -1.0000   0.1460       12\n",
      "1.149452 1.397941     30000000     30000000.0  -1.0000   0.0287       12\n",
      "1.148839 1.130465     31000000     31000000.0  -1.0000   0.0771       11\n",
      "1.148634 1.142266     32000000     32000000.0  -1.0000   0.1648       12\n",
      "1.137874 0.793571     33000000     33000000.0  -1.0000   0.0894       12\n",
      "1.124236 0.674162     34000000     34000000.0  -1.0000   0.0906       11\n",
      "1.130909 1.357819     35000000     35000000.0  -1.0000   0.1072       12\n",
      "1.125724 0.944226     36000000     36000000.0  -1.0000   0.0479       12\n",
      "1.110270 0.553929     37000000     37000000.0  -1.0000   0.1762       12\n",
      "1.111253 1.147625     38000000     38000000.0  -1.0000   0.3109       12\n",
      "1.114925 1.254469     39000000     39000000.0  -1.0000   0.4182       12\n",
      "1.106208 0.766252     40000000     40000000.0  -1.0000   0.1554       12\n",
      "1.146931 2.775832     41000000     41000000.0  -1.0000   0.3108       12\n",
      "1.152895 1.397424     42000000     42000000.0  -1.0000   0.0589       12\n",
      "1.159298 1.428244     43000000     43000000.0  -1.0000   0.2180       11\n",
      "1.166836 1.490957     44000000     44000000.0  -1.0000   0.0876       12\n",
      "1.162208 0.958569     45000000     45000000.0  -1.0000   0.1245       12\n",
      "1.150803 0.637576     46000000     46000000.0  -1.0000   0.2380       12\n",
      "1.136912 0.497918     47000000     47000000.0  -1.0000   0.1984       12\n",
      "1.143154 1.436529     48000000     48000000.0  -1.0000   0.3280       12\n",
      "1.138505 0.915352     49000000     49000000.0  -1.0000   0.1576       12\n",
      "1.139478 1.187186     50000000     50000000.0  -1.0000   0.1432       12\n",
      "1.134808 0.901268     51000000     51000000.0  -1.0000   0.1180       12\n",
      "1.136846 1.240802     52000000     52000000.0  -1.0000   0.0995       12\n",
      "1.128631 0.701464     53000000     53000000.0  -1.0000   0.0663       11\n",
      "1.128031 1.096202     54000000     54000000.0  -1.0000   0.3949       12\n",
      "1.119986 0.685578     55000000     55000000.0  -1.0000   0.1529       12\n",
      "1.116107 0.902742     56000000     56000000.0  -1.0000   0.0434       12\n",
      "1.109028 0.712611     57000000     57000000.0  -1.0000   0.0971       12\n",
      "1.104412 0.841290     58000000     58000000.0  -1.0000   0.3341       12\n",
      "1.100583 0.878503     59000000     59000000.0  -1.0000   0.1319       12\n",
      "1.093909 0.700135     60000000     60000000.0  -1.0000   0.1683       12\n",
      "1.090253 0.870935     61000000     61000000.0  -1.0000   0.0787       12\n",
      "1.082857 0.631681     62000000     62000000.0  -1.0000   0.4494       12\n",
      "1.079041 0.842471     63000000     63000000.0  -1.0000   0.1458       12\n",
      "\n",
      "finished run\n",
      "number of examples = 63922585\n",
      "weighted example sum = 63922585.000000\n",
      "weighted label sum = -63922585.000000\n",
      "average loss = 1.072547\n",
      "best constant = -1.000000\n",
      "best constant's loss = 0.000000\n",
      "total feature number = 763827163\n",
      "0.144403 17678294_59937\n",
      "0.136819 17678294_59937\n",
      "0.062513 18284158_59937\n",
      "0.058934 18284158_59937\n",
      "0.153037 19037404_59937\n"
     ]
    }
   ],
   "source": [
    "! ./vw -d /mnt/test_extended.txt -i model_extended -t -k -p /mnt/predictions_extended.txt --progress 1000000 --link=logistic\n",
    "# predicted probabilities of \"1\" class\n",
    "! head -n 5 /mnt/predictions_extended.txt"
   ]
  },
  {
   "cell_type": "code",
   "execution_count": 93,
   "metadata": {},
   "outputs": [
    {
     "name": "stdout",
     "output_type": "stream",
     "text": [
      "63922585 /mnt/predictions_extended.txt\r\n"
     ]
    }
   ],
   "source": [
    "! wc -l /mnt/predictions_extended.txt"
   ]
  },
  {
   "cell_type": "code",
   "execution_count": 94,
   "metadata": {},
   "outputs": [
    {
     "data": {
      "application/vnd.jupyter.widget-view+json": {
       "model_id": "a1e90fabd54c477bb2e8e39a5cb2429b",
       "version_major": 2,
       "version_minor": 0
      },
      "text/plain": [
       "HBox(children=(FloatProgress(value=1.0, bar_style='info', max=1.0), HTML(value='')))"
      ]
     },
     "metadata": {},
     "output_type": "display_data"
    },
    {
     "name": "stdout",
     "output_type": "stream",
     "text": [
      "\n"
     ]
    },
    {
     "ename": "KeyboardInterrupt",
     "evalue": "",
     "output_type": "error",
     "traceback": [
      "\u001b[0;31m---------------------------------------------------------------------------\u001b[0m",
      "\u001b[0;31mKeyboardInterrupt\u001b[0m                         Traceback (most recent call last)",
      "\u001b[0;32m<ipython-input-94-a7ff55eb2095>\u001b[0m in \u001b[0;36m<module>\u001b[0;34m\u001b[0m\n\u001b[1;32m      2\u001b[0m \u001b[0mscores_by_display_id\u001b[0m \u001b[0;34m=\u001b[0m \u001b[0mdefaultdict\u001b[0m\u001b[0;34m(\u001b[0m\u001b[0mdict\u001b[0m\u001b[0;34m)\u001b[0m\u001b[0;34m\u001b[0m\u001b[0;34m\u001b[0m\u001b[0m\n\u001b[1;32m      3\u001b[0m \u001b[0;32mfor\u001b[0m \u001b[0mline\u001b[0m \u001b[0;32min\u001b[0m \u001b[0mtqdm\u001b[0m\u001b[0;34m.\u001b[0m\u001b[0mtqdm\u001b[0m\u001b[0;34m(\u001b[0m\u001b[0mopen\u001b[0m\u001b[0;34m(\u001b[0m\u001b[0;34m'/mnt/predictions_extended.txt'\u001b[0m\u001b[0;34m)\u001b[0m\u001b[0;34m)\u001b[0m\u001b[0;34m:\u001b[0m\u001b[0;34m\u001b[0m\u001b[0;34m\u001b[0m\u001b[0m\n\u001b[0;32m----> 4\u001b[0;31m     \u001b[0mscore\u001b[0m\u001b[0;34m,\u001b[0m \u001b[0mtag\u001b[0m \u001b[0;34m=\u001b[0m \u001b[0mline\u001b[0m\u001b[0;34m.\u001b[0m\u001b[0mstrip\u001b[0m\u001b[0;34m(\u001b[0m\u001b[0;34m)\u001b[0m\u001b[0;34m.\u001b[0m\u001b[0msplit\u001b[0m\u001b[0;34m(\u001b[0m\u001b[0;34m\" \"\u001b[0m\u001b[0;34m)\u001b[0m\u001b[0;34m\u001b[0m\u001b[0;34m\u001b[0m\u001b[0m\n\u001b[0m\u001b[1;32m      5\u001b[0m     \u001b[0mscore\u001b[0m \u001b[0;34m=\u001b[0m \u001b[0mfloat\u001b[0m\u001b[0;34m(\u001b[0m\u001b[0mscore\u001b[0m\u001b[0;34m)\u001b[0m\u001b[0;34m\u001b[0m\u001b[0;34m\u001b[0m\u001b[0m\n\u001b[1;32m      6\u001b[0m     \u001b[0mdisplay_id\u001b[0m\u001b[0;34m,\u001b[0m \u001b[0mad_id\u001b[0m \u001b[0;34m=\u001b[0m \u001b[0mtag\u001b[0m\u001b[0;34m.\u001b[0m\u001b[0msplit\u001b[0m\u001b[0;34m(\u001b[0m\u001b[0;34m\"_\"\u001b[0m\u001b[0;34m)\u001b[0m\u001b[0;34m\u001b[0m\u001b[0;34m\u001b[0m\u001b[0m\n",
      "\u001b[0;31mKeyboardInterrupt\u001b[0m: "
     ]
    }
   ],
   "source": [
    "from collections import defaultdict\n",
    "scores_by_display_id = defaultdict(dict)\n",
    "for line in tqdm.tqdm(open('/mnt/predictions_extended.txt')):\n",
    "    score, tag = line.strip().split(\" \")\n",
    "    score = float(score)\n",
    "    display_id, ad_id = tag.split(\"_\")\n",
    "    scores_by_display_id[display_id][ad_id] = score"
   ]
  },
  {
   "cell_type": "code",
   "execution_count": null,
   "metadata": {},
   "outputs": [],
   "source": [
    "with open(\"submission_extended.txt\", \"w\") as f:\n",
    "    f.write(\"display_id,ad_id\\n\")\n",
    "    for k, vs in tqdm.tqdm_notebook(scores_by_display_id.items()):\n",
    "        f.write(\"{},{}\\n\".format(\n",
    "            k, \n",
    "            \" \".join([v[0] for v in sorted(vs.items(), key=lambda x: -x[1])])\n",
    "        ))"
   ]
  },
  {
   "cell_type": "code",
   "execution_count": null,
   "metadata": {},
   "outputs": [],
   "source": [
    "! kaggle competitions submit -f submission_extended.txt outbrain-click-prediction -m \"extended\""
   ]
  },
  {
   "cell_type": "code",
   "execution_count": null,
   "metadata": {},
   "outputs": [],
   "source": []
  }
 ],
 "metadata": {
  "kernelspec": {
   "display_name": "Python 3",
   "language": "python",
   "name": "python3"
  },
  "language_info": {
   "codemirror_mode": {
    "name": "ipython",
    "version": 3
   },
   "file_extension": ".py",
   "mimetype": "text/x-python",
   "name": "python",
   "nbconvert_exporter": "python",
   "pygments_lexer": "ipython3",
   "version": "3.6.8"
  }
 },
 "nbformat": 4,
 "nbformat_minor": 4
}
