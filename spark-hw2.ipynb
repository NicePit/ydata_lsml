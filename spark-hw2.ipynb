{
 "cells": [
  {
   "cell_type": "code",
   "execution_count": 1,
   "metadata": {},
   "outputs": [],
   "source": [
    "# Checklist:\n",
    "# AWS emr-5.29.0\n",
    "# MASTER r5d.8xlarge 1x, no EBS\n",
    "# CORE r5d.8xlarge 4x, no EBS\n",
    "# Custom bootstrap action: s3://ydatazian/bootstrap.sh\n",
    "# Allow ssh in master node security group"
   ]
  },
  {
   "cell_type": "code",
   "execution_count": 183,
   "metadata": {},
   "outputs": [],
   "source": [
    "import tqdm.notebook as tqdm\n",
    "import numpy as np\n",
    "import scipy\n",
    "import sklearn\n",
    "import matplotlib.pyplot as plt"
   ]
  },
  {
   "cell_type": "markdown",
   "metadata": {},
   "source": [
    "# SparkSession\n",
    "\n",
    "https://spark.apache.org/docs/2.4.4/api/python/pyspark.html\n",
    "\n",
    "https://spark.apache.org/docs/2.4.4/api/python/pyspark.sql.html"
   ]
  },
  {
   "cell_type": "code",
   "execution_count": 2,
   "metadata": {
    "scrolled": true
   },
   "outputs": [
    {
     "name": "stdout",
     "output_type": "stream",
     "text": [
      "NameNode: http://ec2-18-215-34-68.compute-1.amazonaws.com:50070\n",
      "YARN: http://ec2-18-215-34-68.compute-1.amazonaws.com:8088\n",
      "Spark UI: http://ec2-18-215-34-68.compute-1.amazonaws.com:20888/proxy/application_1590934394702_0001\n"
     ]
    }
   ],
   "source": [
    "import findspark\n",
    "findspark.init()\n",
    "\n",
    "import spark_utils\n",
    "from pyspark import SparkContext, SparkConf\n",
    "from pyspark.sql import SparkSession\n",
    "sc = SparkContext(\"yarn\", \"My App\", conf=spark_utils.get_spark_conf())\n",
    "se = SparkSession(sc)\n",
    "spark_utils.print_ui_links()"
   ]
  },
  {
   "cell_type": "markdown",
   "metadata": {},
   "source": [
    "# Register all tables for sql queries"
   ]
  },
  {
   "cell_type": "code",
   "execution_count": 3,
   "metadata": {},
   "outputs": [
    {
     "data": {
      "application/vnd.jupyter.widget-view+json": {
       "model_id": "c781595a0fb54860aaf59942136be209",
       "version_major": 2,
       "version_minor": 0
      },
      "text/plain": [
       "HBox(children=(FloatProgress(value=0.0, max=10.0), HTML(value='')))"
      ]
     },
     "metadata": {},
     "output_type": "display_data"
    },
    {
     "name": "stdout",
     "output_type": "stream",
     "text": [
      "clicks_test\n"
     ]
    },
    {
     "data": {
      "text/html": [
       "<div>\n",
       "<style scoped>\n",
       "    .dataframe tbody tr th:only-of-type {\n",
       "        vertical-align: middle;\n",
       "    }\n",
       "\n",
       "    .dataframe tbody tr th {\n",
       "        vertical-align: top;\n",
       "    }\n",
       "\n",
       "    .dataframe thead th {\n",
       "        text-align: right;\n",
       "    }\n",
       "</style>\n",
       "<table border=\"1\" class=\"dataframe\">\n",
       "  <thead>\n",
       "    <tr style=\"text-align: right;\">\n",
       "      <th></th>\n",
       "      <th>display_id</th>\n",
       "      <th>ad_id</th>\n",
       "    </tr>\n",
       "  </thead>\n",
       "  <tbody>\n",
       "    <tr>\n",
       "      <th>0</th>\n",
       "      <td>16874594</td>\n",
       "      <td>66758</td>\n",
       "    </tr>\n",
       "    <tr>\n",
       "      <th>1</th>\n",
       "      <td>16874594</td>\n",
       "      <td>150083</td>\n",
       "    </tr>\n",
       "    <tr>\n",
       "      <th>2</th>\n",
       "      <td>16874594</td>\n",
       "      <td>162754</td>\n",
       "    </tr>\n",
       "  </tbody>\n",
       "</table>\n",
       "</div>"
      ],
      "text/plain": [
       "  display_id   ad_id\n",
       "0   16874594   66758\n",
       "1   16874594  150083\n",
       "2   16874594  162754"
      ]
     },
     "metadata": {},
     "output_type": "display_data"
    },
    {
     "name": "stdout",
     "output_type": "stream",
     "text": [
      "clicks_train\n"
     ]
    },
    {
     "data": {
      "text/html": [
       "<div>\n",
       "<style scoped>\n",
       "    .dataframe tbody tr th:only-of-type {\n",
       "        vertical-align: middle;\n",
       "    }\n",
       "\n",
       "    .dataframe tbody tr th {\n",
       "        vertical-align: top;\n",
       "    }\n",
       "\n",
       "    .dataframe thead th {\n",
       "        text-align: right;\n",
       "    }\n",
       "</style>\n",
       "<table border=\"1\" class=\"dataframe\">\n",
       "  <thead>\n",
       "    <tr style=\"text-align: right;\">\n",
       "      <th></th>\n",
       "      <th>display_id</th>\n",
       "      <th>ad_id</th>\n",
       "      <th>clicked</th>\n",
       "    </tr>\n",
       "  </thead>\n",
       "  <tbody>\n",
       "    <tr>\n",
       "      <th>0</th>\n",
       "      <td>1</td>\n",
       "      <td>42337</td>\n",
       "      <td>0</td>\n",
       "    </tr>\n",
       "    <tr>\n",
       "      <th>1</th>\n",
       "      <td>1</td>\n",
       "      <td>139684</td>\n",
       "      <td>0</td>\n",
       "    </tr>\n",
       "    <tr>\n",
       "      <th>2</th>\n",
       "      <td>1</td>\n",
       "      <td>144739</td>\n",
       "      <td>1</td>\n",
       "    </tr>\n",
       "  </tbody>\n",
       "</table>\n",
       "</div>"
      ],
      "text/plain": [
       "  display_id   ad_id clicked\n",
       "0          1   42337       0\n",
       "1          1  139684       0\n",
       "2          1  144739       1"
      ]
     },
     "metadata": {},
     "output_type": "display_data"
    },
    {
     "name": "stdout",
     "output_type": "stream",
     "text": [
      "documents_categories\n"
     ]
    },
    {
     "data": {
      "text/html": [
       "<div>\n",
       "<style scoped>\n",
       "    .dataframe tbody tr th:only-of-type {\n",
       "        vertical-align: middle;\n",
       "    }\n",
       "\n",
       "    .dataframe tbody tr th {\n",
       "        vertical-align: top;\n",
       "    }\n",
       "\n",
       "    .dataframe thead th {\n",
       "        text-align: right;\n",
       "    }\n",
       "</style>\n",
       "<table border=\"1\" class=\"dataframe\">\n",
       "  <thead>\n",
       "    <tr style=\"text-align: right;\">\n",
       "      <th></th>\n",
       "      <th>document_id</th>\n",
       "      <th>category_id</th>\n",
       "      <th>confidence_level</th>\n",
       "    </tr>\n",
       "  </thead>\n",
       "  <tbody>\n",
       "    <tr>\n",
       "      <th>0</th>\n",
       "      <td>1595802</td>\n",
       "      <td>1611</td>\n",
       "      <td>0.92</td>\n",
       "    </tr>\n",
       "    <tr>\n",
       "      <th>1</th>\n",
       "      <td>1595802</td>\n",
       "      <td>1610</td>\n",
       "      <td>0.07</td>\n",
       "    </tr>\n",
       "    <tr>\n",
       "      <th>2</th>\n",
       "      <td>1524246</td>\n",
       "      <td>1807</td>\n",
       "      <td>0.92</td>\n",
       "    </tr>\n",
       "  </tbody>\n",
       "</table>\n",
       "</div>"
      ],
      "text/plain": [
       "  document_id category_id confidence_level\n",
       "0     1595802        1611             0.92\n",
       "1     1595802        1610             0.07\n",
       "2     1524246        1807             0.92"
      ]
     },
     "metadata": {},
     "output_type": "display_data"
    },
    {
     "name": "stdout",
     "output_type": "stream",
     "text": [
      "documents_entities\n"
     ]
    },
    {
     "data": {
      "text/html": [
       "<div>\n",
       "<style scoped>\n",
       "    .dataframe tbody tr th:only-of-type {\n",
       "        vertical-align: middle;\n",
       "    }\n",
       "\n",
       "    .dataframe tbody tr th {\n",
       "        vertical-align: top;\n",
       "    }\n",
       "\n",
       "    .dataframe thead th {\n",
       "        text-align: right;\n",
       "    }\n",
       "</style>\n",
       "<table border=\"1\" class=\"dataframe\">\n",
       "  <thead>\n",
       "    <tr style=\"text-align: right;\">\n",
       "      <th></th>\n",
       "      <th>document_id</th>\n",
       "      <th>entity_id</th>\n",
       "      <th>confidence_level</th>\n",
       "    </tr>\n",
       "  </thead>\n",
       "  <tbody>\n",
       "    <tr>\n",
       "      <th>0</th>\n",
       "      <td>1524246</td>\n",
       "      <td>f9eec25663db4cd83183f5c805186f16</td>\n",
       "      <td>0.672865314504701</td>\n",
       "    </tr>\n",
       "    <tr>\n",
       "      <th>1</th>\n",
       "      <td>1524246</td>\n",
       "      <td>55ebcfbdaff1d6f60b3907151f38527a</td>\n",
       "      <td>0.399113728441297</td>\n",
       "    </tr>\n",
       "    <tr>\n",
       "      <th>2</th>\n",
       "      <td>1524246</td>\n",
       "      <td>839907a972930b17b125eb0247898412</td>\n",
       "      <td>0.392095749652966</td>\n",
       "    </tr>\n",
       "  </tbody>\n",
       "</table>\n",
       "</div>"
      ],
      "text/plain": [
       "  document_id                         entity_id   confidence_level\n",
       "0     1524246  f9eec25663db4cd83183f5c805186f16  0.672865314504701\n",
       "1     1524246  55ebcfbdaff1d6f60b3907151f38527a  0.399113728441297\n",
       "2     1524246  839907a972930b17b125eb0247898412  0.392095749652966"
      ]
     },
     "metadata": {},
     "output_type": "display_data"
    },
    {
     "name": "stdout",
     "output_type": "stream",
     "text": [
      "documents_meta\n"
     ]
    },
    {
     "data": {
      "text/html": [
       "<div>\n",
       "<style scoped>\n",
       "    .dataframe tbody tr th:only-of-type {\n",
       "        vertical-align: middle;\n",
       "    }\n",
       "\n",
       "    .dataframe tbody tr th {\n",
       "        vertical-align: top;\n",
       "    }\n",
       "\n",
       "    .dataframe thead th {\n",
       "        text-align: right;\n",
       "    }\n",
       "</style>\n",
       "<table border=\"1\" class=\"dataframe\">\n",
       "  <thead>\n",
       "    <tr style=\"text-align: right;\">\n",
       "      <th></th>\n",
       "      <th>document_id</th>\n",
       "      <th>source_id</th>\n",
       "      <th>publisher_id</th>\n",
       "      <th>publish_time</th>\n",
       "    </tr>\n",
       "  </thead>\n",
       "  <tbody>\n",
       "    <tr>\n",
       "      <th>0</th>\n",
       "      <td>1595802</td>\n",
       "      <td>1</td>\n",
       "      <td>603</td>\n",
       "      <td>2016-06-05 00:00:00</td>\n",
       "    </tr>\n",
       "    <tr>\n",
       "      <th>1</th>\n",
       "      <td>1524246</td>\n",
       "      <td>1</td>\n",
       "      <td>603</td>\n",
       "      <td>2016-05-26 11:00:00</td>\n",
       "    </tr>\n",
       "    <tr>\n",
       "      <th>2</th>\n",
       "      <td>1617787</td>\n",
       "      <td>1</td>\n",
       "      <td>603</td>\n",
       "      <td>2016-05-27 00:00:00</td>\n",
       "    </tr>\n",
       "  </tbody>\n",
       "</table>\n",
       "</div>"
      ],
      "text/plain": [
       "  document_id source_id publisher_id         publish_time\n",
       "0     1595802         1          603  2016-06-05 00:00:00\n",
       "1     1524246         1          603  2016-05-26 11:00:00\n",
       "2     1617787         1          603  2016-05-27 00:00:00"
      ]
     },
     "metadata": {},
     "output_type": "display_data"
    },
    {
     "name": "stdout",
     "output_type": "stream",
     "text": [
      "documents_topics\n"
     ]
    },
    {
     "data": {
      "text/html": [
       "<div>\n",
       "<style scoped>\n",
       "    .dataframe tbody tr th:only-of-type {\n",
       "        vertical-align: middle;\n",
       "    }\n",
       "\n",
       "    .dataframe tbody tr th {\n",
       "        vertical-align: top;\n",
       "    }\n",
       "\n",
       "    .dataframe thead th {\n",
       "        text-align: right;\n",
       "    }\n",
       "</style>\n",
       "<table border=\"1\" class=\"dataframe\">\n",
       "  <thead>\n",
       "    <tr style=\"text-align: right;\">\n",
       "      <th></th>\n",
       "      <th>document_id</th>\n",
       "      <th>topic_id</th>\n",
       "      <th>confidence_level</th>\n",
       "    </tr>\n",
       "  </thead>\n",
       "  <tbody>\n",
       "    <tr>\n",
       "      <th>0</th>\n",
       "      <td>1595802</td>\n",
       "      <td>140</td>\n",
       "      <td>0.0731131601068925</td>\n",
       "    </tr>\n",
       "    <tr>\n",
       "      <th>1</th>\n",
       "      <td>1595802</td>\n",
       "      <td>16</td>\n",
       "      <td>0.0594164867373976</td>\n",
       "    </tr>\n",
       "    <tr>\n",
       "      <th>2</th>\n",
       "      <td>1595802</td>\n",
       "      <td>143</td>\n",
       "      <td>0.0454207537554526</td>\n",
       "    </tr>\n",
       "  </tbody>\n",
       "</table>\n",
       "</div>"
      ],
      "text/plain": [
       "  document_id topic_id    confidence_level\n",
       "0     1595802      140  0.0731131601068925\n",
       "1     1595802       16  0.0594164867373976\n",
       "2     1595802      143  0.0454207537554526"
      ]
     },
     "metadata": {},
     "output_type": "display_data"
    },
    {
     "name": "stdout",
     "output_type": "stream",
     "text": [
      "events\n"
     ]
    },
    {
     "data": {
      "text/html": [
       "<div>\n",
       "<style scoped>\n",
       "    .dataframe tbody tr th:only-of-type {\n",
       "        vertical-align: middle;\n",
       "    }\n",
       "\n",
       "    .dataframe tbody tr th {\n",
       "        vertical-align: top;\n",
       "    }\n",
       "\n",
       "    .dataframe thead th {\n",
       "        text-align: right;\n",
       "    }\n",
       "</style>\n",
       "<table border=\"1\" class=\"dataframe\">\n",
       "  <thead>\n",
       "    <tr style=\"text-align: right;\">\n",
       "      <th></th>\n",
       "      <th>display_id</th>\n",
       "      <th>uuid</th>\n",
       "      <th>document_id</th>\n",
       "      <th>timestamp</th>\n",
       "      <th>platform</th>\n",
       "      <th>geo_location</th>\n",
       "    </tr>\n",
       "  </thead>\n",
       "  <tbody>\n",
       "    <tr>\n",
       "      <th>0</th>\n",
       "      <td>1</td>\n",
       "      <td>cb8c55702adb93</td>\n",
       "      <td>379743</td>\n",
       "      <td>61</td>\n",
       "      <td>3</td>\n",
       "      <td>US&gt;SC&gt;519</td>\n",
       "    </tr>\n",
       "    <tr>\n",
       "      <th>1</th>\n",
       "      <td>2</td>\n",
       "      <td>79a85fa78311b9</td>\n",
       "      <td>1794259</td>\n",
       "      <td>81</td>\n",
       "      <td>2</td>\n",
       "      <td>US&gt;CA&gt;807</td>\n",
       "    </tr>\n",
       "    <tr>\n",
       "      <th>2</th>\n",
       "      <td>3</td>\n",
       "      <td>822932ce3d8757</td>\n",
       "      <td>1179111</td>\n",
       "      <td>182</td>\n",
       "      <td>2</td>\n",
       "      <td>US&gt;MI&gt;505</td>\n",
       "    </tr>\n",
       "  </tbody>\n",
       "</table>\n",
       "</div>"
      ],
      "text/plain": [
       "  display_id            uuid document_id timestamp platform geo_location\n",
       "0          1  cb8c55702adb93      379743        61        3    US>SC>519\n",
       "1          2  79a85fa78311b9     1794259        81        2    US>CA>807\n",
       "2          3  822932ce3d8757     1179111       182        2    US>MI>505"
      ]
     },
     "metadata": {},
     "output_type": "display_data"
    },
    {
     "name": "stdout",
     "output_type": "stream",
     "text": [
      "page_views\n"
     ]
    },
    {
     "data": {
      "text/html": [
       "<div>\n",
       "<style scoped>\n",
       "    .dataframe tbody tr th:only-of-type {\n",
       "        vertical-align: middle;\n",
       "    }\n",
       "\n",
       "    .dataframe tbody tr th {\n",
       "        vertical-align: top;\n",
       "    }\n",
       "\n",
       "    .dataframe thead th {\n",
       "        text-align: right;\n",
       "    }\n",
       "</style>\n",
       "<table border=\"1\" class=\"dataframe\">\n",
       "  <thead>\n",
       "    <tr style=\"text-align: right;\">\n",
       "      <th></th>\n",
       "      <th>uuid</th>\n",
       "      <th>document_id</th>\n",
       "      <th>timestamp</th>\n",
       "      <th>platform</th>\n",
       "      <th>geo_location</th>\n",
       "      <th>traffic_source</th>\n",
       "    </tr>\n",
       "  </thead>\n",
       "  <tbody>\n",
       "    <tr>\n",
       "      <th>0</th>\n",
       "      <td>1fd5f051fba643</td>\n",
       "      <td>120</td>\n",
       "      <td>31905835</td>\n",
       "      <td>1</td>\n",
       "      <td>RS</td>\n",
       "      <td>2</td>\n",
       "    </tr>\n",
       "    <tr>\n",
       "      <th>1</th>\n",
       "      <td>8557aa9004be3b</td>\n",
       "      <td>120</td>\n",
       "      <td>32053104</td>\n",
       "      <td>1</td>\n",
       "      <td>VN&gt;44</td>\n",
       "      <td>2</td>\n",
       "    </tr>\n",
       "    <tr>\n",
       "      <th>2</th>\n",
       "      <td>c351b277a358f0</td>\n",
       "      <td>120</td>\n",
       "      <td>54013023</td>\n",
       "      <td>1</td>\n",
       "      <td>KR&gt;12</td>\n",
       "      <td>1</td>\n",
       "    </tr>\n",
       "  </tbody>\n",
       "</table>\n",
       "</div>"
      ],
      "text/plain": [
       "             uuid document_id timestamp platform geo_location traffic_source\n",
       "0  1fd5f051fba643         120  31905835        1           RS              2\n",
       "1  8557aa9004be3b         120  32053104        1        VN>44              2\n",
       "2  c351b277a358f0         120  54013023        1        KR>12              1"
      ]
     },
     "metadata": {},
     "output_type": "display_data"
    },
    {
     "name": "stdout",
     "output_type": "stream",
     "text": [
      "page_views_sample\n"
     ]
    },
    {
     "data": {
      "text/html": [
       "<div>\n",
       "<style scoped>\n",
       "    .dataframe tbody tr th:only-of-type {\n",
       "        vertical-align: middle;\n",
       "    }\n",
       "\n",
       "    .dataframe tbody tr th {\n",
       "        vertical-align: top;\n",
       "    }\n",
       "\n",
       "    .dataframe thead th {\n",
       "        text-align: right;\n",
       "    }\n",
       "</style>\n",
       "<table border=\"1\" class=\"dataframe\">\n",
       "  <thead>\n",
       "    <tr style=\"text-align: right;\">\n",
       "      <th></th>\n",
       "      <th>uuid</th>\n",
       "      <th>document_id</th>\n",
       "      <th>timestamp</th>\n",
       "      <th>platform</th>\n",
       "      <th>geo_location</th>\n",
       "      <th>traffic_source</th>\n",
       "    </tr>\n",
       "  </thead>\n",
       "  <tbody>\n",
       "    <tr>\n",
       "      <th>0</th>\n",
       "      <td>1fd5f051fba643</td>\n",
       "      <td>120</td>\n",
       "      <td>31905835</td>\n",
       "      <td>1</td>\n",
       "      <td>RS</td>\n",
       "      <td>2</td>\n",
       "    </tr>\n",
       "    <tr>\n",
       "      <th>1</th>\n",
       "      <td>8557aa9004be3b</td>\n",
       "      <td>120</td>\n",
       "      <td>32053104</td>\n",
       "      <td>1</td>\n",
       "      <td>VN&gt;44</td>\n",
       "      <td>2</td>\n",
       "    </tr>\n",
       "    <tr>\n",
       "      <th>2</th>\n",
       "      <td>c351b277a358f0</td>\n",
       "      <td>120</td>\n",
       "      <td>54013023</td>\n",
       "      <td>1</td>\n",
       "      <td>KR&gt;12</td>\n",
       "      <td>1</td>\n",
       "    </tr>\n",
       "  </tbody>\n",
       "</table>\n",
       "</div>"
      ],
      "text/plain": [
       "             uuid document_id timestamp platform geo_location traffic_source\n",
       "0  1fd5f051fba643         120  31905835        1           RS              2\n",
       "1  8557aa9004be3b         120  32053104        1        VN>44              2\n",
       "2  c351b277a358f0         120  54013023        1        KR>12              1"
      ]
     },
     "metadata": {},
     "output_type": "display_data"
    },
    {
     "name": "stdout",
     "output_type": "stream",
     "text": [
      "promoted_content\n"
     ]
    },
    {
     "data": {
      "text/html": [
       "<div>\n",
       "<style scoped>\n",
       "    .dataframe tbody tr th:only-of-type {\n",
       "        vertical-align: middle;\n",
       "    }\n",
       "\n",
       "    .dataframe tbody tr th {\n",
       "        vertical-align: top;\n",
       "    }\n",
       "\n",
       "    .dataframe thead th {\n",
       "        text-align: right;\n",
       "    }\n",
       "</style>\n",
       "<table border=\"1\" class=\"dataframe\">\n",
       "  <thead>\n",
       "    <tr style=\"text-align: right;\">\n",
       "      <th></th>\n",
       "      <th>ad_id</th>\n",
       "      <th>document_id</th>\n",
       "      <th>campaign_id</th>\n",
       "      <th>advertiser_id</th>\n",
       "    </tr>\n",
       "  </thead>\n",
       "  <tbody>\n",
       "    <tr>\n",
       "      <th>0</th>\n",
       "      <td>1</td>\n",
       "      <td>6614</td>\n",
       "      <td>1</td>\n",
       "      <td>7</td>\n",
       "    </tr>\n",
       "    <tr>\n",
       "      <th>1</th>\n",
       "      <td>2</td>\n",
       "      <td>471467</td>\n",
       "      <td>2</td>\n",
       "      <td>7</td>\n",
       "    </tr>\n",
       "    <tr>\n",
       "      <th>2</th>\n",
       "      <td>3</td>\n",
       "      <td>7692</td>\n",
       "      <td>3</td>\n",
       "      <td>7</td>\n",
       "    </tr>\n",
       "  </tbody>\n",
       "</table>\n",
       "</div>"
      ],
      "text/plain": [
       "  ad_id document_id campaign_id advertiser_id\n",
       "0     1        6614           1             7\n",
       "1     2      471467           2             7\n",
       "2     3        7692           3             7"
      ]
     },
     "metadata": {},
     "output_type": "display_data"
    },
    {
     "name": "stdout",
     "output_type": "stream",
     "text": [
      "\n"
     ]
    }
   ],
   "source": [
    "from IPython.display import display\n",
    "tables = [\"clicks_test\", \"clicks_train\", \n",
    "          \"documents_categories\", \"documents_entities\", \"documents_meta\", \"documents_topics\", \n",
    "          \"events\", \"page_views\", \"page_views_sample\", \"promoted_content\"]\n",
    "for name in tqdm.tqdm(tables):\n",
    "    df = se.read.parquet(\"s3://ydatazian/{}.parquet\".format(name))\n",
    "    df.registerTempTable(name)\n",
    "    print(name)\n",
    "    display(df.limit(3).toPandas())"
   ]
  },
  {
   "cell_type": "markdown",
   "metadata": {},
   "source": [
    "# Prepare dataset for VW\n",
    "\n",
    "We will predict a *click* based on:\n",
    "- ad_id\n",
    "- document_id\n",
    "- campaign_id\n",
    "- advertiser_id"
   ]
  },
  {
   "cell_type": "code",
   "execution_count": 4,
   "metadata": {},
   "outputs": [
    {
     "name": "stdout",
     "output_type": "stream",
     "text": [
      "CPU times: user 5.28 ms, sys: 0 ns, total: 5.28 ms\n",
      "Wall time: 47.9 s\n"
     ]
    }
   ],
   "source": [
    "%%time\n",
    "se.sql(\"\"\"\n",
    "select \n",
    "    clicks_train.clicked,\n",
    "    clicks_train.display_id,\n",
    "    clicks_train.ad_id,\n",
    "    promoted_content.document_id,\n",
    "    promoted_content.campaign_id,\n",
    "    promoted_content.advertiser_id\n",
    "from clicks_train join promoted_content on clicks_train.ad_id = promoted_content.ad_id\n",
    "\"\"\").write.parquet(\"/train_features.parquet\", mode='overwrite')"
   ]
  },
  {
   "cell_type": "code",
   "execution_count": 5,
   "metadata": {},
   "outputs": [
    {
     "name": "stdout",
     "output_type": "stream",
     "text": [
      "+-------+----------+------+-----------+-----------+-------------+\n",
      "|clicked|display_id| ad_id|document_id|campaign_id|advertiser_id|\n",
      "+-------+----------+------+-----------+-----------+-------------+\n",
      "|      0|         1| 42337|     938164|       5969|         1499|\n",
      "|      0|         1|139684|    1085937|      17527|         2563|\n",
      "|      1|         1|144739|    1337362|      18488|         2909|\n",
      "|      0|         1|156824|     992370|       7283|         1919|\n",
      "|      0|         1|279295|    1670176|      27524|         1820|\n",
      "+-------+----------+------+-----------+-----------+-------------+\n",
      "only showing top 5 rows\n",
      "\n"
     ]
    }
   ],
   "source": [
    "se.read.parquet(\"/train_features.parquet\").show(5)"
   ]
  },
  {
   "cell_type": "code",
   "execution_count": 6,
   "metadata": {},
   "outputs": [
    {
     "name": "stdout",
     "output_type": "stream",
     "text": [
      "Row(clicked='0', display_id='1', ad_id='42337', document_id='938164', campaign_id='5969', advertiser_id='1499')\n",
      "-1 1_42337| display_id_1 ad_id_42337 document_id_938164 campaign_id_5969 advertiser_id_1499\n"
     ]
    }
   ],
   "source": [
    "# Format: [Label] [Importance] [Base] [Tag]|Namespace Features |Namespace Features ... |Namespace Features\n",
    "# https://github.com/VowpalWabbit/vowpal_wabbit/wiki/Input-format\n",
    "def vw_row_mapper(row):\n",
    "    clicked = None\n",
    "    features = []\n",
    "    for k, v in row.asDict().items():\n",
    "        if k == 'clicked':\n",
    "            clicked = '1' if v == '1' else '-1'\n",
    "        else:\n",
    "            features.append(k + \"_\" + v)\n",
    "    tag = row.display_id + \"_\" + row.ad_id\n",
    "    return \"{} {}| {}\".format(clicked, tag, \" \".join(features))\n",
    "\n",
    "r = se.read.parquet(\"/train_features.parquet\").take(1)[0]\n",
    "print(r)\n",
    "print(vw_row_mapper(r))"
   ]
  },
  {
   "cell_type": "code",
   "execution_count": 7,
   "metadata": {},
   "outputs": [
    {
     "name": "stdout",
     "output_type": "stream",
     "text": [
      "rm: `/train_features.txt': No such file or directory\n",
      "CPU times: user 24.1 ms, sys: 25.4 ms, total: 49.5 ms\n",
      "Wall time: 2min 41s\n"
     ]
    }
   ],
   "source": [
    "%%time\n",
    "! hdfs dfs -rm -r /train_features.txt\n",
    "(\n",
    "    se.read.parquet(\"/train_features.parquet\")\n",
    "    .rdd\n",
    "    .map(vw_row_mapper)\n",
    "    .saveAsTextFile(\"/train_features.txt\")\n",
    ")"
   ]
  },
  {
   "cell_type": "code",
   "execution_count": 8,
   "metadata": {},
   "outputs": [
    {
     "name": "stdout",
     "output_type": "stream",
     "text": [
      "rm: cannot remove '/mnt/train.txt': No such file or directory\n",
      "-1 1_42337| display_id_1 ad_id_42337 document_id_938164 campaign_id_5969 advertiser_id_1499\n",
      "-1 1_139684| display_id_1 ad_id_139684 document_id_1085937 campaign_id_17527 advertiser_id_2563\n",
      "1 1_144739| display_id_1 ad_id_144739 document_id_1337362 campaign_id_18488 advertiser_id_2909\n",
      "-1 1_156824| display_id_1 ad_id_156824 document_id_992370 campaign_id_7283 advertiser_id_1919\n",
      "-1 1_279295| display_id_1 ad_id_279295 document_id_1670176 campaign_id_27524 advertiser_id_1820\n"
     ]
    }
   ],
   "source": [
    "# copy file to local master node\n",
    "! rm /mnt/train.txt\n",
    "! hdfs dfs -getmerge /train_features.txt /mnt/train.txt\n",
    "# preview local file\n",
    "! head -n 5 /mnt/train.txt"
   ]
  },
  {
   "cell_type": "markdown",
   "metadata": {},
   "source": [
    "# Train VW\n",
    "https://vowpalwabbit.org/tutorials/getting_started.html\n",
    "\n",
    "https://github.com/JohnLangford/vowpal_wabbit/wiki/Command-line-arguments"
   ]
  },
  {
   "cell_type": "code",
   "execution_count": 9,
   "metadata": {},
   "outputs": [
    {
     "name": "stdout",
     "output_type": "stream",
     "text": [
      "final_regressor = model\n",
      "Enabling FTRL based optimization\n",
      "Algorithm used: Proximal-FTRL\n",
      "ftrl_alpha = 0.005\n",
      "ftrl_beta = 0.1\n",
      "Num weight bits = 24\n",
      "learning rate = 0.5\n",
      "initial_t = 0\n",
      "power_t = 0.5\n",
      "creating cache_file = /mnt/train.txt.cache\n",
      "Reading datafile = /mnt/train.txt\n",
      "num sources = 1\n",
      "average  since         example        example  current  current  current\n",
      "loss     last          counter         weight    label  predict features\n",
      "0.460142 0.460142      8000000      8000000.0  -1.0000  -1.2983        6\n",
      "0.456159 0.452175     16000000     16000000.0  -1.0000  -1.4733        6\n",
      "0.453326 0.447661     24000000     24000000.0  -1.0000  -2.3174        6\n",
      "0.452628 0.450533     32000000     32000000.0   1.0000  -0.5719        6\n",
      "0.452887 0.453924     40000000     40000000.0  -1.0000  -1.2648        6\n",
      "0.452010 0.447625     48000000     48000000.0  -1.0000  -2.6227        6\n",
      "0.451328 0.447232     56000000     56000000.0  -1.0000  -3.4451        6\n",
      "0.450649 0.445902     64000000     64000000.0  -1.0000  -1.3654        6\n",
      "0.450373 0.448160     72000000     72000000.0  -1.0000  -1.4113        6\n",
      "0.449983 0.446471     80000000     80000000.0   1.0000  -1.4889        6\n",
      "\n",
      "finished run\n",
      "number of examples = 87141731\n",
      "weighted example sum = 87141731.000000\n",
      "weighted label sum = -53392545.000000\n",
      "average loss = 0.450146\n",
      "best constant = -1.426495\n",
      "best constant's loss = 0.491466\n",
      "total feature number = 522850386\n"
     ]
    }
   ],
   "source": [
    "! ./vw -d /mnt/train.txt -b 24 -c -k --ftrl --passes 1 -f model --holdout_off --loss_function logistic --random_seed 42 --progress 8000000"
   ]
  },
  {
   "cell_type": "code",
   "execution_count": 10,
   "metadata": {},
   "outputs": [
    {
     "name": "stdout",
     "output_type": "stream",
     "text": [
      "only testing\n",
      "predictions = /mnt/predictions.txt\n",
      "Enabling FTRL based optimization\n",
      "Algorithm used: Proximal-FTRL\n",
      "ftrl_alpha = 0.005\n",
      "ftrl_beta = 0.1\n",
      "Num weight bits = 24\n",
      "learning rate = 0.5\n",
      "initial_t = 0\n",
      "power_t = 0.5\n",
      "using no cache\n",
      "Reading datafile = /mnt/test.txt\n",
      "num sources = 1\n",
      "average  since         example        example  current  current  current\n",
      "loss     last          counter         weight    label  predict features\n",
      "warning: ? is not a good float, replacing with 0\n",
      "warning: ? is not a good float, replacing with 0\n",
      "\n",
      "finished run\n",
      "number of examples = 2\n",
      "weighted example sum = 2.000000\n",
      "weighted label sum = 0.000000\n",
      "average loss = 5.674418\n",
      "total feature number = 10\n",
      "0.319263 tag1\n",
      "0.036173 tag2\n"
     ]
    }
   ],
   "source": [
    "# make prediction with VW\n",
    "! echo \"? tag1| ad_id_144739 document_id_1337362 campaign_id_18488 advertiser_id_2909\" > /mnt/test.txt\n",
    "! echo \"? tag2| ad_id_156824 document_id_992370 campaign_id_7283 advertiser_id_1919\" >> /mnt/test.txt\n",
    "! ./vw -d /mnt/test.txt -i model -t -k -p /mnt/predictions.txt --progress 1000000 --link=logistic\n",
    "# predicted probabilities of \"1\" class\n",
    "! cat /mnt/predictions.txt"
   ]
  },
  {
   "cell_type": "markdown",
   "metadata": {},
   "source": [
    "# Homework 2: Baseline VW model\n",
    "\n",
    "Train a baseline model using the following features:\n",
    "- **clicked**\n",
    "- geo_location features (country, state, dma)\n",
    "- day_of_week (from timestamp, use *date.isoweekday()*)\n",
    "- ad_id\n",
    "- campaign_id\n",
    "- advertiser_id\n",
    "- ad_document_id\n",
    "- display_document_id\n",
    "- platform\n",
    "\n",
    "Make submission to Kaggle to know your leaderboard score\n",
    "\n",
    "If you want to create a dev set, make a 90%/10% split of training data by display_id"
   ]
  },
  {
   "cell_type": "code",
   "execution_count": 179,
   "metadata": {},
   "outputs": [
    {
     "data": {
      "text/plain": [
       "0.7542056796372427"
      ]
     },
     "execution_count": 179,
     "metadata": {},
     "output_type": "execute_result"
    }
   ],
   "source": [
    "category_confidence_threshold = se.sql(\"\"\"\n",
    "    select AVG(confidence_level)+STD(confidence_level) as category_confidence_threshold from documents_categories             \n",
    "\"\"\").toPandas().category_confidence_threshold[0]\n",
    "category_confidence_threshold"
   ]
  },
  {
   "cell_type": "code",
   "execution_count": 181,
   "metadata": {},
   "outputs": [
    {
     "data": {
      "text/plain": [
       "0.1174019430183002"
      ]
     },
     "execution_count": 181,
     "metadata": {},
     "output_type": "execute_result"
    }
   ],
   "source": [
    "topic_confidence_threshold = se.sql(\"\"\"\n",
    "    select AVG(confidence_level)+STD(confidence_level) as topic_confidence_threshold from documents_topics             \n",
    "\"\"\").toPandas().topic_confidence_threshold[0]\n",
    "topic_confidence_threshold"
   ]
  },
  {
   "cell_type": "code",
   "execution_count": null,
   "metadata": {},
   "outputs": [],
   "source": [
    "se.sql(\"\"\"\n",
    "select \n",
    "    clicks_train.clicked,\n",
    "    clicks_train.display_id,\n",
    "    clicks_train.ad_id,\n",
    "    events.uuid\n",
    "    events.document_id as display_document_id\n",
    "    from clicks_train \n",
    "    join events on clicks_train.display_id = events.display_id)\n",
    "    join "
   ]
  },
  {
   "cell_type": "code",
   "execution_count": 239,
   "metadata": {},
   "outputs": [],
   "source": [
    "def get_base_query(dataset_part):\n",
    "    BASE_QUERY = f\"\"\"\n",
    "    with base_features as (\n",
    "    select \n",
    "        clicks_{dataset_part}.clicked,\n",
    "        clicks_{dataset_part}.display_id,\n",
    "        clicks_{dataset_part}.ad_id,\n",
    "        promoted_content.document_id as ad_document_id,\n",
    "        promoted_content.campaign_id,\n",
    "        promoted_content.advertiser_id,\n",
    "        events.timestamp,\n",
    "        events.geo_location,\n",
    "        events.platform,\n",
    "        events.document_id as display_document_id\n",
    "        from clicks_{dataset_part} join promoted_content on clicks_{dataset_part}.ad_id = promoted_content.ad_id\n",
    "                      join events on clicks_{dataset_part}.display_id = events.display_id),\n",
    "\n",
    "        document_categories as \n",
    "        (select document_id, collect_list(struct(category_id,confidence_level)) as categories \n",
    "        from documents_categories group by document_id\n",
    "        ),\n",
    "\n",
    "        document_topics as \n",
    "        (select document_id, collect_list(struct(topic_id,confidence_level)) as topics\n",
    "        from documents_topics group by document_id\n",
    "        )\n",
    "\n",
    "        select base_features.*, document_categories.categories cats, document_topics.topics topics,\n",
    "        documents_meta.source_id, documents_meta.publisher_id\n",
    "        from base_features \n",
    "        join document_categories on base_features.ad_document_id = document_categories.document_id\n",
    "        join document_topics on base_features.ad_document_id = document_topics.document_id\n",
    "        join documents_meta on base_features.ad_document_id = documents_meta.document_id\n",
    "\n",
    "    \"\"\"\n",
    "    return BASE_QUERY"
   ]
  },
  {
   "cell_type": "code",
   "execution_count": 240,
   "metadata": {},
   "outputs": [
    {
     "data": {
      "text/plain": [
       "'\\n    with base_features as (\\n    select \\n        clicks_train.clicked,\\n        clicks_train.display_id,\\n        clicks_train.ad_id,\\n        promoted_content.document_id as ad_document_id,\\n        promoted_content.campaign_id,\\n        promoted_content.advertiser_id,\\n        events.timestamp,\\n        events.geo_location,\\n        events.platform,\\n        events.document_id as display_document_id\\n        from clicks_train join promoted_content on clicks_train.ad_id = promoted_content.ad_id\\n                      join events on clicks_train.display_id = events.display_id),\\n\\n        document_categories as \\n        (select document_id, collect_list(struct(category_id,confidence_level)) as categories \\n        from documents_categories group by document_id\\n        ),\\n\\n        document_topics as \\n        (select document_id, collect_list(struct(topic_id,confidence_level)) as topics\\n        from documents_topics group by document_id\\n        )\\n\\n        select base_features.*, document_categories.categories cats, document_topics.topics topics,\\n        documents_meta.source_id, documents_meta.publisher_id\\n        from base_features \\n        join document_categories on base_features.ad_document_id = document_categories.document_id\\n        join document_topics on base_features.ad_document_id = document_topics.document_id\\n        join documents_meta on base_features.ad_document_id = documents_meta.document_id\\n\\n    '"
      ]
     },
     "execution_count": 240,
     "metadata": {},
     "output_type": "execute_result"
    }
   ],
   "source": []
  },
  {
   "cell_type": "code",
   "execution_count": 241,
   "metadata": {},
   "outputs": [
    {
     "name": "stdout",
     "output_type": "stream",
     "text": [
      "CPU times: user 5.3 ms, sys: 0 ns, total: 5.3 ms\n",
      "Wall time: 1min 8s\n"
     ]
    }
   ],
   "source": [
    "%%time\n",
    "\n",
    "query = get_base_query('train')\n",
    "\n",
    "se.sql(query).write.parquet(\"/train_features_extended.parquet\", mode='overwrite')"
   ]
  },
  {
   "cell_type": "code",
   "execution_count": 242,
   "metadata": {},
   "outputs": [
    {
     "name": "stdout",
     "output_type": "stream",
     "text": [
      "Row(clicked='0', display_id='11023709', ad_id='59937', ad_document_id='1009080', campaign_id='7839', advertiser_id='2158', timestamp='737655477', geo_location='US>NY>501', platform='2', display_document_id='2454914', cats=[Row(category_id='1609', confidence_level='0.677989032'), Row(category_id='1512', confidence_level='0.051586122')], topics=[Row(topic_id='123', confidence_level='0.214594845017154'), Row(topic_id='285', confidence_level='0.00963558313821912')], source_id='5614', publisher_id=None)\n",
      "\n",
      "-1 11023709_59937| display_id_11023709 ad_id_59937 ad_document_id_1009080 campaign_id_7839 advertiser_id_2158 weekday_6 state_NY country_US platform_2 display_document_id_2454914 source_id_5614\n"
     ]
    }
   ],
   "source": [
    "from datetime import datetime\n",
    "\n",
    "INIT_TIMESTAMP = 1465876799\n",
    "\n",
    "def vw_row_mapper_extended(row):\n",
    "    clicked = None\n",
    "    features = []\n",
    "    for k, v in row.asDict().items():\n",
    "        if v:\n",
    "            if k == 'cats':\n",
    "                pass\n",
    "#                 for cat in v:\n",
    "#                     if float(cat.confidence_level) > category_confidence_threshold:\n",
    "#                         features.append(\"category\" + \"_\" + cat.category_id)\n",
    "            elif k == 'topics':\n",
    "                pass\n",
    "#                 for topic in v:\n",
    "#                     if float(topic.confidence_level) > topic_confidence_threshold:\n",
    "#                         features.append(\"topic\" + \"_\" + topic.topic_id)\n",
    "            elif k == 'geo_location':\n",
    "                args = v.split(\">\")\n",
    "                if len(args) == 3:\n",
    "                    country, state, dma = args\n",
    "                    features.append(\"state\" + \"_\" + state)\n",
    "                elif len(args) == 2:\n",
    "                    country, dma = args\n",
    "                    features.append(\"dma\" + \"_\" + dma)\n",
    "                elif len(args) == 1:\n",
    "                    country = args[0]\n",
    "                else:\n",
    "                    raise RuntimeError(\"Unknown geolocation format:\", v)\n",
    "\n",
    "                features.append(\"country\" + \"_\" + country)\n",
    "\n",
    "            elif k == 'timestamp':\n",
    "                v = int(v)\n",
    "                v += INIT_TIMESTAMP\n",
    "                v = datetime.utcfromtimestamp(v).isoweekday()\n",
    "                features.append('weekday' + \"_\" + str(v))\n",
    "            elif k == 'clicked':\n",
    "                clicked = '1' if v == '1' else '-1'\n",
    "            else:\n",
    "                features.append(k + \"_\" + v)\n",
    "    tag = row.display_id + \"_\" + row.ad_id\n",
    "    return \"{} {}| {}\".format(clicked, tag, \" \".join(features))\n",
    "\n",
    "r = se.read.parquet(\"/train_features_extended.parquet\").take(1)[0]\n",
    "print(r)\n",
    "print()\n",
    "print(vw_row_mapper_extended(r))"
   ]
  },
  {
   "cell_type": "code",
   "execution_count": 243,
   "metadata": {},
   "outputs": [
    {
     "name": "stdout",
     "output_type": "stream",
     "text": [
      "Deleted /train_features_extended.txt\n",
      "CPU times: user 43.7 ms, sys: 85 ms, total: 129 ms\n",
      "Wall time: 1min 43s\n"
     ]
    }
   ],
   "source": [
    "%%time\n",
    "! hdfs dfs -rm -r /train_features_extended.txt\n",
    "(\n",
    "    se.read.parquet(\"/train_features_extended.parquet\")\n",
    "    .rdd\n",
    "    .map(vw_row_mapper_extended)\n",
    "    .saveAsTextFile(\"/train_features_extended.txt\")\n",
    ")"
   ]
  },
  {
   "cell_type": "code",
   "execution_count": 244,
   "metadata": {},
   "outputs": [
    {
     "name": "stdout",
     "output_type": "stream",
     "text": [
      "-1 11023709_59937| display_id_11023709 ad_id_59937 ad_document_id_1009080 campaign_id_7839 advertiser_id_2158 weekday_6 state_NY country_US platform_2 display_document_id_2454914 source_id_5614\r\n",
      "-1 11953846_59936| display_id_11953846 ad_id_59936 ad_document_id_1009080 campaign_id_7839 advertiser_id_2158 weekday_4 state_NJ country_US platform_2 display_document_id_2544962 source_id_5614\r\n",
      "-1 12035052_59937| display_id_12035052 ad_id_59937 ad_document_id_1009080 campaign_id_7839 advertiser_id_2158 weekday_1 state_GA country_US platform_2 display_document_id_2565503 source_id_5614\r\n",
      "-1 12228191_59937| display_id_12228191 ad_id_59937 ad_document_id_1009080 campaign_id_7839 advertiser_id_2158 weekday_3 state_SC country_US platform_2 display_document_id_2583884 source_id_5614\r\n",
      "1 13414602_59937| display_id_13414602 ad_id_59937 ad_document_id_1009080 campaign_id_7839 advertiser_id_2158 weekday_5 state_CA country_US platform_2 display_document_id_2613745 source_id_5614\r\n"
     ]
    }
   ],
   "source": [
    "# copy file to local master node\n",
    "! rm /mnt/train_extended.txt\n",
    "! hdfs dfs -getmerge /train_features_extended.txt /mnt/train_extended.txt\n",
    "# preview local file\n",
    "! head -n 5 /mnt/train_extended.txt"
   ]
  },
  {
   "cell_type": "code",
   "execution_count": null,
   "metadata": {},
   "outputs": [
    {
     "name": "stdout",
     "output_type": "stream",
     "text": [
      "final_regressor = model_extended\n",
      "Enabling FTRL based optimization\n",
      "Algorithm used: Proximal-FTRL\n",
      "ftrl_alpha = 0.005\n",
      "ftrl_beta = 0.1\n",
      "Num weight bits = 24\n",
      "learning rate = 0.5\n",
      "initial_t = 0\n",
      "power_t = 0.5\n",
      "creating cache_file = /mnt/train_extended.txt.cache\n",
      "Reading datafile = /mnt/train_extended.txt\n",
      "num sources = 1\n",
      "average  since         example        example  current  current  current\n",
      "loss     last          counter         weight    label  predict features\n",
      "0.456052 0.456052      8000000      8000000.0  -1.0000  -0.9528       12\n",
      "0.458985 0.461917     16000000     16000000.0  -1.0000  -2.3084       12\n",
      "0.450393 0.433210     24000000     24000000.0  -1.0000  -1.9936       13\n",
      "0.451469 0.454695     32000000     32000000.0  -1.0000  -2.0955       12\n",
      "0.452020 0.454228     40000000     40000000.0  -1.0000  -1.6073       12\n"
     ]
    }
   ],
   "source": [
    "! ./vw -d /mnt/train_extended.txt -b 24 -c -k --ftrl --passes 1 -f model_extended --holdout_off --loss_function logistic --random_seed 42 --progress 8000000"
   ]
  },
  {
   "cell_type": "code",
   "execution_count": 207,
   "metadata": {},
   "outputs": [],
   "source": []
  },
  {
   "cell_type": "markdown",
   "metadata": {},
   "source": [
    "# Submitting to Kaggle\n",
    "\n",
    "Obtain Kaggle API token: https://github.com/Kaggle/kaggle-api#api-credentials\n",
    "\n",
    "Making a submission: https://github.com/Kaggle/kaggle-api#submit-to-a-competition"
   ]
  },
  {
   "cell_type": "code",
   "execution_count": 11,
   "metadata": {},
   "outputs": [
    {
     "name": "stdout",
     "output_type": "stream",
     "text": [
      "{\"username\":\"stanleybar\",\"key\":\"e9e37e881fb09d147d9bfac3fb1276d5\"}\r\n"
     ]
    }
   ],
   "source": [
    "! mkdir ~/.kaggle\n",
    "! touch ~/.kaggle/kaggle.json\n",
    "! echo '{\"username\":\"stanleybar\",\"key\":\"e9e37e881fb09d147d9bfac3fb1276d5\"}' > ~/.kaggle/kaggle.json\n",
    "! cat ~/.kaggle/kaggle.json\n",
    "! chmod 600 /home/hadoop/.kaggle/kaggle.json"
   ]
  },
  {
   "cell_type": "code",
   "execution_count": 12,
   "metadata": {},
   "outputs": [
    {
     "name": "stdout",
     "output_type": "stream",
     "text": [
      "download: s3://ydatazian/sample_submission.csv to ./sample_submission.csv\n"
     ]
    }
   ],
   "source": [
    "! aws s3 cp s3://ydatazian/sample_submission.csv ."
   ]
  },
  {
   "cell_type": "code",
   "execution_count": 13,
   "metadata": {},
   "outputs": [
    {
     "name": "stdout",
     "output_type": "stream",
     "text": [
      "display_id,ad_id\r\n",
      "16874594,66758 150083 162754 170392 172888 180797\r\n",
      "16874595,8846 30609 143982\r\n",
      "16874596,11430 57197 132820 153260 173005 288385 289122 289915\r\n",
      "16874597,137858 143981 155945 180965 182039 285834 305790 308836\r\n"
     ]
    }
   ],
   "source": [
    "# https://www.kaggle.com/c/outbrain-click-prediction/overview/evaluation\n",
    "# For each display_id in the test set, you must predict a space-delimited list of ad_ids, \n",
    "# ordered by decreasing likelihood of being clicked.\n",
    "! head -n 5 ./sample_submission.csv"
   ]
  },
  {
   "cell_type": "code",
   "execution_count": 15,
   "metadata": {},
   "outputs": [
    {
     "name": "stdout",
     "output_type": "stream",
     "text": [
      "CPU times: user 1.13 ms, sys: 2.32 ms, total: 3.45 ms\n",
      "Wall time: 44.8 s\n"
     ]
    }
   ],
   "source": [
    "%%time\n",
    "se.sql(\"\"\"\n",
    "select \n",
    "    \"0\" as clicked,\n",
    "    clicks_test.display_id,\n",
    "    clicks_test.ad_id,\n",
    "    promoted_content.document_id,\n",
    "    promoted_content.campaign_id,\n",
    "    promoted_content.advertiser_id\n",
    "from clicks_test join promoted_content on clicks_test.ad_id = promoted_content.ad_id\n",
    "\"\"\").write.parquet(\"/test_features.parquet\", mode='overwrite')"
   ]
  },
  {
   "cell_type": "code",
   "execution_count": 16,
   "metadata": {},
   "outputs": [
    {
     "name": "stdout",
     "output_type": "stream",
     "text": [
      "rm: `/test_features.txt': No such file or directory\n",
      "CPU times: user 22.8 ms, sys: 14.4 ms, total: 37.1 ms\n",
      "Wall time: 2min 31s\n"
     ]
    }
   ],
   "source": [
    "%%time\n",
    "! hdfs dfs -rm -r /test_features.txt\n",
    "(\n",
    "    se.read.parquet(\"/test_features.parquet\")\n",
    "    .rdd\n",
    "    .map(vw_row_mapper)\n",
    "    .saveAsTextFile(\"/test_features.txt\")\n",
    ")"
   ]
  },
  {
   "cell_type": "code",
   "execution_count": 17,
   "metadata": {},
   "outputs": [
    {
     "name": "stdout",
     "output_type": "stream",
     "text": [
      "-1 16874594_66758| display_id_16874594 ad_id_66758 document_id_1051283 campaign_id_8949 advertiser_id_555\r\n",
      "-1 16874594_150083| display_id_16874594 ad_id_150083 document_id_1358132 campaign_id_19045 advertiser_id_1913\r\n",
      "-1 16874594_162754| display_id_16874594 ad_id_162754 document_id_1292723 campaign_id_17770 advertiser_id_2391\r\n",
      "-1 16874594_170392| display_id_16874594 ad_id_170392 document_id_1083829 campaign_id_20943 advertiser_id_1731\r\n",
      "-1 16874594_172888| display_id_16874594 ad_id_172888 document_id_1433954 campaign_id_1384 advertiser_id_16\r\n"
     ]
    }
   ],
   "source": [
    "# copy file to local master node\n",
    "! rm /mnt/test.txt\n",
    "! hdfs dfs -getmerge /test_features.txt /mnt/test.txt\n",
    "# preview local file\n",
    "! head -n 5 /mnt/test.txt"
   ]
  },
  {
   "cell_type": "code",
   "execution_count": 18,
   "metadata": {
    "scrolled": true
   },
   "outputs": [
    {
     "name": "stdout",
     "output_type": "stream",
     "text": [
      "only testing\n",
      "predictions = /mnt/predictions.txt\n",
      "Enabling FTRL based optimization\n",
      "Algorithm used: Proximal-FTRL\n",
      "ftrl_alpha = 0.005\n",
      "ftrl_beta = 0.1\n",
      "Num weight bits = 24\n",
      "learning rate = 0.5\n",
      "initial_t = 0\n",
      "power_t = 0.5\n",
      "using no cache\n",
      "Reading datafile = /mnt/test.txt\n",
      "num sources = 1\n",
      "average  since         example        example  current  current  current\n",
      "loss     last          counter         weight    label  predict features\n",
      "0.882649 0.882649      1000000      1000000.0  -1.0000   0.0992        6\n",
      "0.892969 0.903290      2000000      2000000.0  -1.0000   0.2038        6\n",
      "0.909992 0.944038      3000000      3000000.0  -1.0000   0.1904        6\n",
      "0.930778 0.993135      4000000      4000000.0  -1.0000   0.1299        6\n",
      "0.940643 0.980106      5000000      5000000.0  -1.0000   0.2314        6\n",
      "0.936147 0.913665      6000000      6000000.0  -1.0000   0.2526        6\n",
      "0.931488 0.903531      7000000      7000000.0  -1.0000   0.1489        6\n",
      "0.934737 0.957483      8000000      8000000.0  -1.0000   0.1199        6\n",
      "0.934686 0.934280      9000000      9000000.0  -1.0000   0.2714        6\n",
      "0.933653 0.924351     10000000     10000000.0  -1.0000   0.4612        6\n",
      "0.933516 0.932154     11000000     11000000.0  -1.0000   0.0987        6\n",
      "0.939386 1.003949     12000000     12000000.0  -1.0000   0.0323        6\n",
      "0.937430 0.913961     13000000     13000000.0  -1.0000   0.2975        6\n",
      "0.937388 0.936846     14000000     14000000.0  -1.0000   0.4423        6\n",
      "0.932586 0.865356     15000000     15000000.0  -1.0000   0.2861        6\n",
      "0.927574 0.852393     16000000     16000000.0  -1.0000   0.1947        6\n",
      "0.908712 0.606920     17000000     17000000.0  -1.0000   0.3701        6\n",
      "0.903679 0.818119     18000000     18000000.0  -1.0000   0.1702        6\n",
      "0.903691 0.903900     19000000     19000000.0  -1.0000   0.1761        6\n",
      "0.906186 0.953586     20000000     20000000.0  -1.0000   0.1551        6\n",
      "0.908422 0.953142     21000000     21000000.0  -1.0000   0.1543        6\n",
      "0.910019 0.943571     22000000     22000000.0  -1.0000   0.1971        6\n",
      "0.912406 0.964913     23000000     23000000.0  -1.0000   0.0581        6\n",
      "0.912509 0.914884     24000000     24000000.0  -1.0000   0.1630        6\n",
      "0.902634 0.665632     25000000     25000000.0  -1.0000   0.0789        6\n",
      "0.894178 0.682778     26000000     26000000.0  -1.0000   0.1098        6\n",
      "0.891421 0.819737     27000000     27000000.0  -1.0000   0.1875        6\n",
      "0.890192 0.856993     28000000     28000000.0  -1.0000   0.0726        6\n",
      "0.889943 0.882986     29000000     29000000.0  -1.0000   0.0642        6\n",
      "0.890587 0.909264     30000000     30000000.0  -1.0000   0.2127        6\n",
      "0.892051 0.935973     31000000     31000000.0  -1.0000   0.2621        6\n",
      "0.893960 0.953147     32000000     32000000.0  -1.0000   0.1908        6\n",
      "\n",
      "finished run\n",
      "number of examples = 32225162\n",
      "weighted example sum = 32225162.000000\n",
      "weighted label sum = -32225162.000000\n",
      "average loss = 0.893900\n",
      "best constant = -1.000000\n",
      "best constant's loss = 0.000000\n",
      "total feature number = 193350972\n",
      "0.081203 16874594_66758\n",
      "0.067638 16874594_150083\n",
      "0.214070 16874594_162754\n",
      "0.316799 16874594_170392\n",
      "0.312524 16874594_172888\n"
     ]
    }
   ],
   "source": [
    "! ./vw -d /mnt/test.txt -i model -t -k -p /mnt/predictions.txt --progress 1000000 --link=logistic\n",
    "# predicted probabilities of \"1\" class\n",
    "! head -n 5 /mnt/predictions.txt"
   ]
  },
  {
   "cell_type": "code",
   "execution_count": 19,
   "metadata": {},
   "outputs": [
    {
     "name": "stdout",
     "output_type": "stream",
     "text": [
      "32225162 /mnt/predictions.txt\r\n"
     ]
    }
   ],
   "source": [
    "! wc -l /mnt/predictions.txt"
   ]
  },
  {
   "cell_type": "code",
   "execution_count": 20,
   "metadata": {},
   "outputs": [
    {
     "data": {
      "application/vnd.jupyter.widget-view+json": {
       "model_id": "74d958ce0e65481b9252b1be7ff6b561",
       "version_major": 2,
       "version_minor": 0
      },
      "text/plain": [
       "HBox(children=(FloatProgress(value=1.0, bar_style='info', max=1.0), HTML(value='')))"
      ]
     },
     "metadata": {},
     "output_type": "display_data"
    },
    {
     "name": "stdout",
     "output_type": "stream",
     "text": [
      "\n"
     ]
    }
   ],
   "source": [
    "from collections import defaultdict\n",
    "scores_by_display_id = defaultdict(dict)\n",
    "for line in tqdm.tqdm(open('/mnt/predictions.txt')):\n",
    "    score, tag = line.strip().split(\" \")\n",
    "    score = float(score)\n",
    "    display_id, ad_id = tag.split(\"_\")\n",
    "    scores_by_display_id[display_id][ad_id] = score"
   ]
  },
  {
   "cell_type": "code",
   "execution_count": 21,
   "metadata": {},
   "outputs": [
    {
     "data": {
      "application/vnd.jupyter.widget-view+json": {
       "model_id": "19c93b60aa10483085dfdac2ee79193d",
       "version_major": 2,
       "version_minor": 0
      },
      "text/plain": [
       "HBox(children=(FloatProgress(value=0.0, max=6245533.0), HTML(value='')))"
      ]
     },
     "metadata": {},
     "output_type": "display_data"
    },
    {
     "name": "stdout",
     "output_type": "stream",
     "text": [
      "\n"
     ]
    }
   ],
   "source": [
    "with open(\"submission.txt\", \"w\") as f:\n",
    "    f.write(\"display_id,ad_id\\n\")\n",
    "    for k, vs in tqdm.tqdm_notebook(scores_by_display_id.items()):\n",
    "        f.write(\"{},{}\\n\".format(\n",
    "            k, \n",
    "            \" \".join([v[0] for v in sorted(vs.items(), key=lambda x: -x[1])])\n",
    "        ))"
   ]
  },
  {
   "cell_type": "code",
   "execution_count": 22,
   "metadata": {},
   "outputs": [
    {
     "name": "stdout",
     "output_type": "stream",
     "text": [
      "100%|########################################| 260M/260M [00:04<00:00, 58.2MB/s]\n",
      "Successfully submitted to Outbrain Click Prediction"
     ]
    }
   ],
   "source": [
    "! kaggle competitions submit -f submission.txt outbrain-click-prediction -m \"baseline\""
   ]
  },
  {
   "cell_type": "markdown",
   "metadata": {},
   "source": [
    "## SUBMIT EXTENDED MODEL"
   ]
  },
  {
   "cell_type": "code",
   "execution_count": null,
   "metadata": {},
   "outputs": [],
   "source": [
    "%%time\n",
    "\n",
    "test_query = get_base_query('test')\n",
    "df = se.sql(test_query)\n",
    "\n",
    "print('Total examples', df.count())\n",
    "df.write.parquet(\"/test_features_extended.parquet\", mode='overwrite')"
   ]
  },
  {
   "cell_type": "code",
   "execution_count": null,
   "metadata": {},
   "outputs": [],
   "source": [
    "%%time\n",
    "! hdfs dfs -rm -r /test_features_extended.txt\n",
    "(\n",
    "    se.read.parquet(\"/test_features_extended.parquet\")\n",
    "    .rdd\n",
    "    .map(vw_row_mapper_extended)\n",
    "    .saveAsTextFile(\"/test_features_extended.txt\")\n",
    ")\n",
    "\n"
   ]
  },
  {
   "cell_type": "code",
   "execution_count": null,
   "metadata": {},
   "outputs": [],
   "source": [
    "# copy file to local master node\n",
    "! rm /mnt/test_extended.txt\n",
    "! hdfs dfs -getmerge /test_features_extended.txt /mnt/test_extended.txt\n",
    "# preview local file\n",
    "! head -n 5 /mnt/test_extended.txt"
   ]
  },
  {
   "cell_type": "code",
   "execution_count": null,
   "metadata": {},
   "outputs": [],
   "source": [
    "! ./vw -d /mnt/test_extended.txt -i model_extended -t -k -p /mnt/predictions_extended.txt --progress 1000000 --link=logistic\n",
    "# predicted probabilities of \"1\" class\n",
    "! head -n 5 /mnt/predictions_extended.txt"
   ]
  },
  {
   "cell_type": "code",
   "execution_count": null,
   "metadata": {},
   "outputs": [],
   "source": [
    "! wc -l /mnt/predictions_extended.txt"
   ]
  },
  {
   "cell_type": "code",
   "execution_count": null,
   "metadata": {},
   "outputs": [],
   "source": [
    "from collections import defaultdict\n",
    "scores_by_display_id = defaultdict(dict)\n",
    "for line in tqdm.tqdm(open('/mnt/predictions_extended.txt')):\n",
    "    score, tag = line.strip().split(\" \")\n",
    "    score = float(score)\n",
    "    display_id, ad_id = tag.split(\"_\")\n",
    "    scores_by_display_id[display_id][ad_id] = score"
   ]
  },
  {
   "cell_type": "code",
   "execution_count": null,
   "metadata": {},
   "outputs": [],
   "source": [
    "with open(\"submission_extended.txt\", \"w\") as f:\n",
    "    f.write(\"display_id,ad_id\\n\")\n",
    "    for k, vs in tqdm.tqdm_notebook(scores_by_display_id.items()):\n",
    "        f.write(\"{},{}\\n\".format(\n",
    "            k, \n",
    "            \" \".join([v[0] for v in sorted(vs.items(), key=lambda x: -x[1])])\n",
    "        ))"
   ]
  },
  {
   "cell_type": "code",
   "execution_count": null,
   "metadata": {},
   "outputs": [],
   "source": [
    "! kaggle competitions submit -f submission_extended.txt outbrain-click-prediction -m \"extended_no_topics_publisher_and_source\""
   ]
  },
  {
   "cell_type": "code",
   "execution_count": null,
   "metadata": {},
   "outputs": [],
   "source": []
  }
 ],
 "metadata": {
  "kernelspec": {
   "display_name": "Python 3",
   "language": "python",
   "name": "python3"
  },
  "language_info": {
   "codemirror_mode": {
    "name": "ipython",
    "version": 3
   },
   "file_extension": ".py",
   "mimetype": "text/x-python",
   "name": "python",
   "nbconvert_exporter": "python",
   "pygments_lexer": "ipython3",
   "version": "3.6.8"
  }
 },
 "nbformat": 4,
 "nbformat_minor": 4
}
